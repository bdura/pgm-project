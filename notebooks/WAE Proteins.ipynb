{
 "cells": [
  {
   "cell_type": "markdown",
   "metadata": {
    "colab_type": "text",
    "id": "6sWsKK8u0Zb0"
   },
   "source": [
    "# WAE on Proteins"
   ]
  },
  {
   "cell_type": "markdown",
   "metadata": {
    "colab_type": "text",
    "id": "TbyWq4Uc1Lfb"
   },
   "source": [
    "# Colab"
   ]
  },
  {
   "cell_type": "markdown",
   "metadata": {
    "colab_type": "text",
    "id": "muBrh9i31Rq1"
   },
   "source": [
    "## Paths"
   ]
  },
  {
   "cell_type": "markdown",
   "metadata": {
    "colab_type": "text",
    "id": "m6BANxeY6s6R"
   },
   "source": [
    "Set `colab` to `False` if the notebook is not running on Colab."
   ]
  },
  {
   "cell_type": "code",
   "execution_count": 0,
   "metadata": {
    "colab": {},
    "colab_type": "code",
    "id": "DpAn02yN6g6C"
   },
   "outputs": [],
   "source": [
    "colab = True"
   ]
  },
  {
   "cell_type": "code",
   "execution_count": 0,
   "metadata": {
    "colab": {},
    "colab_type": "code",
    "id": "2zhb-CcE6kr7"
   },
   "outputs": [],
   "source": [
    "if colab:\n",
    "    ROOT = '/content/gdrive/My Drive/Colab/PGM/Project/'\n",
    "else:\n",
    "    ROOT = '../'"
   ]
  },
  {
   "cell_type": "code",
   "execution_count": 0,
   "metadata": {
    "colab": {},
    "colab_type": "code",
    "id": "AP6cCogh0lGR"
   },
   "outputs": [],
   "source": [
    "MODULE_PATH = ROOT + 'autoencoders/'\n",
    "DATA_PATH = ROOT + 'data/'\n",
    "NOTEBOOK_PATH = ROOT + 'notebooks/'\n",
    "MODELS_PATH = ROOT + 'models/'"
   ]
  },
  {
   "cell_type": "markdown",
   "metadata": {
    "colab_type": "text",
    "id": "EWitSD-61U6r"
   },
   "source": [
    "## Access to Drive"
   ]
  },
  {
   "cell_type": "code",
   "execution_count": 4,
   "metadata": {
    "colab": {
     "base_uri": "https://localhost:8080/",
     "height": 122
    },
    "colab_type": "code",
    "executionInfo": {
     "elapsed": 26724,
     "status": "ok",
     "timestamp": 1543857156334,
     "user": {
      "displayName": "Basile Dura",
      "photoUrl": "https://lh5.googleusercontent.com/-VYKwAw35RKU/AAAAAAAAAAI/AAAAAAAAS-Q/tpwWee7Y2yA/s64/photo.jpg",
      "userId": "10273963106894465933"
     },
     "user_tz": 300
    },
    "id": "XqjI1tOa1YdP",
    "outputId": "6c965fc7-6412-4b56-a276-d5c3322b4384"
   },
   "outputs": [
    {
     "name": "stdout",
     "output_type": "stream",
     "text": [
      "Go to this URL in a browser: https://accounts.google.com/o/oauth2/auth?client_id=947318989803-6bn6qk8qdgf4n4g3pfee6491hc0brc4i.apps.googleusercontent.com&redirect_uri=urn%3Aietf%3Awg%3Aoauth%3A2.0%3Aoob&scope=email%20https%3A%2F%2Fwww.googleapis.com%2Fauth%2Fdocs.test%20https%3A%2F%2Fwww.googleapis.com%2Fauth%2Fdrive%20https%3A%2F%2Fwww.googleapis.com%2Fauth%2Fdrive.photos.readonly%20https%3A%2F%2Fwww.googleapis.com%2Fauth%2Fpeopleapi.readonly&response_type=code\n",
      "\n",
      "Enter your authorization code:\n",
      "··········\n",
      "Mounted at /content/gdrive\n"
     ]
    }
   ],
   "source": [
    "if colab:\n",
    "    from google.colab import drive\n",
    "    drive.mount('/content/gdrive')"
   ]
  },
  {
   "cell_type": "markdown",
   "metadata": {
    "colab_type": "text",
    "id": "ilgdREYW1bIO"
   },
   "source": [
    "## Installations"
   ]
  },
  {
   "cell_type": "code",
   "execution_count": 0,
   "metadata": {
    "colab": {},
    "colab_type": "code",
    "id": "_61Rhpbx1fVG"
   },
   "outputs": [],
   "source": [
    "if colab:\n",
    "    get_ipython().system_raw('pip install torch torchvision tensorboardX')"
   ]
  },
  {
   "cell_type": "code",
   "execution_count": 0,
   "metadata": {
    "colab": {},
    "colab_type": "code",
    "id": "K_8f71vS1iyD"
   },
   "outputs": [],
   "source": [
    "if colab:\n",
    "    get_ipython().system_raw('wget https://bin.equinox.io/c/4VmDzA7iaHb/ngrok-stable-linux-amd64.zip')\n",
    "    get_ipython().system_raw('unzip ngrok-stable-linux-amd64.zip')"
   ]
  },
  {
   "cell_type": "markdown",
   "metadata": {
    "colab_type": "text",
    "id": "KYxbJxRS1e_D"
   },
   "source": [
    "## Tensorboard"
   ]
  },
  {
   "cell_type": "code",
   "execution_count": 0,
   "metadata": {
    "colab": {},
    "colab_type": "code",
    "id": "UHqgx6Vy1rNq"
   },
   "outputs": [],
   "source": [
    "LOG_DIR = NOTEBOOK_PATH + 'runs/'\n",
    "\n",
    "if colab:\n",
    "    get_ipython().system_raw(\n",
    "        'tensorboard --logdir=\"{}\" --host 0.0.0.0 --port 6006 &'\n",
    "        .format(LOG_DIR)\n",
    "    )\n",
    "    get_ipython().system_raw('./ngrok http 6006 &')"
   ]
  },
  {
   "cell_type": "markdown",
   "metadata": {
    "colab_type": "text",
    "id": "Qmww2GNv2AFW"
   },
   "source": [
    "Get the url for TensorBoard"
   ]
  },
  {
   "cell_type": "code",
   "execution_count": 8,
   "metadata": {
    "colab": {
     "base_uri": "https://localhost:8080/",
     "height": 34
    },
    "colab_type": "code",
    "executionInfo": {
     "elapsed": 50988,
     "status": "ok",
     "timestamp": 1543857201798,
     "user": {
      "displayName": "Basile Dura",
      "photoUrl": "https://lh5.googleusercontent.com/-VYKwAw35RKU/AAAAAAAAAAI/AAAAAAAAS-Q/tpwWee7Y2yA/s64/photo.jpg",
      "userId": "10273963106894465933"
     },
     "user_tz": 300
    },
    "id": "JhQtKD0z161a",
    "outputId": "049c0dc9-5f2b-4c89-83f2-be6fefd75047"
   },
   "outputs": [
    {
     "name": "stdout",
     "output_type": "stream",
     "text": [
      "https://009cdff7.ngrok.io\n"
     ]
    }
   ],
   "source": [
    "! curl -s http://localhost:4040/api/tunnels | python3 -c \\\n",
    "    \"import sys, json; print(json.load(sys.stdin)['tunnels'][0]['public_url'])\""
   ]
  },
  {
   "cell_type": "markdown",
   "metadata": {
    "colab_type": "text",
    "id": "dYszxiOA2Emi"
   },
   "source": [
    "# Import statements"
   ]
  },
  {
   "cell_type": "markdown",
   "metadata": {
    "colab_type": "text",
    "id": "hkmlq06j2HzJ"
   },
   "source": [
    "## Access to modules"
   ]
  },
  {
   "cell_type": "code",
   "execution_count": 0,
   "metadata": {
    "ExecuteTime": {
     "end_time": "2018-11-26T21:00:24.694321Z",
     "start_time": "2018-11-26T21:00:24.690945Z"
    },
    "colab": {},
    "colab_type": "code",
    "id": "AZwO3vOb0Zb1"
   },
   "outputs": [],
   "source": [
    "import sys\n",
    "import os"
   ]
  },
  {
   "cell_type": "code",
   "execution_count": 0,
   "metadata": {
    "ExecuteTime": {
     "end_time": "2018-11-26T21:00:25.025453Z",
     "start_time": "2018-11-26T21:00:25.020663Z"
    },
    "colab": {},
    "colab_type": "code",
    "id": "Jn_zdcfg0Zb5"
   },
   "outputs": [],
   "source": [
    "sys.path.append(os.path.abspath(MODULE_PATH))"
   ]
  },
  {
   "cell_type": "markdown",
   "metadata": {
    "colab_type": "text",
    "id": "sEtbIgYD21Vn"
   },
   "source": [
    "## Importation of modules"
   ]
  },
  {
   "cell_type": "code",
   "execution_count": 0,
   "metadata": {
    "ExecuteTime": {
     "end_time": "2018-11-26T21:00:25.639547Z",
     "start_time": "2018-11-26T21:00:25.390781Z"
    },
    "colab": {},
    "colab_type": "code",
    "id": "KMRuhoCD0Zb7"
   },
   "outputs": [],
   "source": [
    "# \"Magic\" commands for automatic reloading of module, perfect for prototyping\n",
    "%reload_ext autoreload\n",
    "%autoreload 2\n",
    "\n",
    "import wasserstein\n",
    "import proteins"
   ]
  },
  {
   "cell_type": "code",
   "execution_count": 0,
   "metadata": {
    "ExecuteTime": {
     "end_time": "2018-11-26T21:00:26.384952Z",
     "start_time": "2018-11-26T21:00:26.364862Z"
    },
    "colab": {},
    "colab_type": "code",
    "id": "HFXu_5G60Zb-"
   },
   "outputs": [],
   "source": [
    "import numpy as np\n",
    "\n",
    "from tqdm import tqdm"
   ]
  },
  {
   "cell_type": "code",
   "execution_count": 0,
   "metadata": {
    "ExecuteTime": {
     "end_time": "2018-11-26T21:00:26.637485Z",
     "start_time": "2018-11-26T21:00:26.539651Z"
    },
    "colab": {},
    "colab_type": "code",
    "id": "03ESmNeN0ZcA"
   },
   "outputs": [],
   "source": [
    "import torch\n",
    "from torch.utils.data import Dataset, DataLoader\n",
    "from torchvision import transforms, utils, datasets"
   ]
  },
  {
   "cell_type": "markdown",
   "metadata": {
    "colab_type": "text",
    "id": "QpN-aEw60ZcD"
   },
   "source": [
    "# Dataset"
   ]
  },
  {
   "cell_type": "markdown",
   "metadata": {
    "colab_type": "text",
    "id": "OTzytEcQ2V_D"
   },
   "source": [
    "First we  need to unzip the dataset:"
   ]
  },
  {
   "cell_type": "code",
   "execution_count": 0,
   "metadata": {
    "colab": {},
    "colab_type": "code",
    "id": "pHzXndaX2-Y9"
   },
   "outputs": [],
   "source": [
    "if colab:\n",
    "    get_ipython().system_raw('mkdir data')\n",
    "    get_ipython().system_raw('unzip \"{path}\" -d data'.format(path=DATA_PATH + 'pgm-dataset.npy.zip'))\n",
    "    DATA_PATH = 'data/'"
   ]
  },
  {
   "cell_type": "code",
   "execution_count": 0,
   "metadata": {
    "colab": {},
    "colab_type": "code",
    "id": "TUcWaSs_BAyZ"
   },
   "outputs": [],
   "source": [
    "complete_set = proteins.ProteinDataset(data=np.load(DATA_PATH + 'pgm-dataset.npy'))"
   ]
  },
  {
   "cell_type": "code",
   "execution_count": 0,
   "metadata": {
    "colab": {},
    "colab_type": "code",
    "id": "q_cxceGcBCkY"
   },
   "outputs": [],
   "source": [
    "np.random.seed(0)\n",
    "\n",
    "n = len(complete_set)\n",
    "\n",
    "shuffled = np.arange(n)\n",
    "np.random.shuffle(shuffled)\n",
    "\n",
    "split = int(n * .8)\n",
    "\n",
    "training = shuffled[:split]\n",
    "validation = shuffled[split:]"
   ]
  },
  {
   "cell_type": "code",
   "execution_count": 17,
   "metadata": {
    "ExecuteTime": {
     "end_time": "2018-11-26T21:21:08.037372Z",
     "start_time": "2018-11-26T21:21:07.133076Z"
    },
    "colab": {
     "base_uri": "https://localhost:8080/",
     "height": 51
    },
    "colab_type": "code",
    "executionInfo": {
     "elapsed": 49175,
     "status": "ok",
     "timestamp": 1543857213367,
     "user": {
      "displayName": "Basile Dura",
      "photoUrl": "https://lh5.googleusercontent.com/-VYKwAw35RKU/AAAAAAAAAAI/AAAAAAAAS-Q/tpwWee7Y2yA/s64/photo.jpg",
      "userId": "10273963106894465933"
     },
     "user_tz": 300
    },
    "id": "_XgCz9hM0ZcE",
    "outputId": "189dc8ca-17db-4baf-bf62-1c971f29b3d9"
   },
   "outputs": [
    {
     "name": "stdout",
     "output_type": "stream",
     "text": [
      ">> total training batch number: 400\n",
      ">> total validation batch number: 100\n"
     ]
    }
   ],
   "source": [
    "batch_size = 100\n",
    "\n",
    "train_loader = torch.utils.data.DataLoader(\n",
    "    dataset=complete_set[training],\n",
    "    batch_size=batch_size,\n",
    "    shuffle=True\n",
    ")\n",
    "\n",
    "validation_loader = torch.utils.data.DataLoader(\n",
    "    dataset=complete_set[validation],\n",
    "    batch_size=batch_size,\n",
    "    shuffle=False\n",
    ")\n",
    "\n",
    "print('>> total training batch number: {}'.format(len(train_loader)))\n",
    "print('>> total validation batch number: {}'.format(len(validation_loader)))"
   ]
  },
  {
   "cell_type": "markdown",
   "metadata": {
    "colab_type": "text",
    "id": "sohUtqNR0ZcI"
   },
   "source": [
    "# Wasserstein Auto-Encoder"
   ]
  },
  {
   "cell_type": "code",
   "execution_count": 0,
   "metadata": {
    "ExecuteTime": {
     "end_time": "2018-11-26T21:21:12.143148Z",
     "start_time": "2018-11-26T21:21:12.103251Z"
    },
    "colab": {},
    "colab_type": "code",
    "id": "8IA2jxPq0ZcI"
   },
   "outputs": [],
   "source": [
    "model = proteins.WassersteinAutoEncoder(ksi=10)"
   ]
  },
  {
   "cell_type": "code",
   "execution_count": 0,
   "metadata": {
    "ExecuteTime": {
     "end_time": "2018-11-21T23:00:16.633459Z",
     "start_time": "2018-11-21T23:00:16.549788Z"
    },
    "colab": {},
    "colab_type": "code",
    "id": "gxpX_QYG0ZcL"
   },
   "outputs": [],
   "source": [
    "%psource proteins.WassersteinAutoEncoder"
   ]
  },
  {
   "cell_type": "code",
   "execution_count": 20,
   "metadata": {
    "ExecuteTime": {
     "end_time": "2018-11-26T21:21:13.029075Z",
     "start_time": "2018-11-26T21:21:13.003482Z"
    },
    "colab": {
     "base_uri": "https://localhost:8080/",
     "height": 187
    },
    "colab_type": "code",
    "executionInfo": {
     "elapsed": 47818,
     "status": "ok",
     "timestamp": 1543857214536,
     "user": {
      "displayName": "Basile Dura",
      "photoUrl": "https://lh5.googleusercontent.com/-VYKwAw35RKU/AAAAAAAAAAI/AAAAAAAAS-Q/tpwWee7Y2yA/s64/photo.jpg",
      "userId": "10273963106894465933"
     },
     "user_tz": 300
    },
    "id": "kbDoBRq40ZcO",
    "outputId": "e3f8aa23-51f1-4b30-e254-4dcd3d94d810"
   },
   "outputs": [
    {
     "name": "stdout",
     "output_type": "stream",
     "text": [
      "WassersteinAutoEncoder(\n",
      "  (fc1): Linear(in_features=1968, out_features=512, bias=True)\n",
      "  (fc2): Linear(in_features=512, out_features=128, bias=True)\n",
      "  (fc3): Linear(in_features=128, out_features=32, bias=True)\n",
      "  (fc4): Linear(in_features=32, out_features=2, bias=True)\n",
      "  (fc5): Linear(in_features=2, out_features=32, bias=True)\n",
      "  (fc6): Linear(in_features=32, out_features=128, bias=True)\n",
      "  (fc7): Linear(in_features=128, out_features=512, bias=True)\n",
      "  (fc8): Linear(in_features=512, out_features=1968, bias=True)\n",
      ")\n"
     ]
    }
   ],
   "source": [
    "print(model)"
   ]
  },
  {
   "cell_type": "markdown",
   "metadata": {
    "colab_type": "text",
    "id": "A_7d2t_l0ZcR"
   },
   "source": [
    "# Training procedure"
   ]
  },
  {
   "cell_type": "markdown",
   "metadata": {
    "colab_type": "text",
    "id": "9hmFmcKT0ZcR"
   },
   "source": [
    "## TensorBoard"
   ]
  },
  {
   "cell_type": "markdown",
   "metadata": {
    "colab_type": "text",
    "id": "6W2A71C50ZcS"
   },
   "source": [
    "First, we create a `SummaryWriter` instance (in order to use tensorboard):"
   ]
  },
  {
   "cell_type": "code",
   "execution_count": 0,
   "metadata": {
    "ExecuteTime": {
     "end_time": "2018-11-26T21:21:20.315714Z",
     "start_time": "2018-11-26T21:21:20.291183Z"
    },
    "colab": {},
    "colab_type": "code",
    "id": "YVQOR4KA0ZcS"
   },
   "outputs": [],
   "source": [
    "from tensorboardX import SummaryWriter\n",
    "writer = SummaryWriter(LOG_DIR + 'proteins-lr-5')"
   ]
  },
  {
   "cell_type": "markdown",
   "metadata": {
    "colab_type": "text",
    "id": "HazlXsLP0ZcV"
   },
   "source": [
    "In order to visualize the graph, we call next cell:"
   ]
  },
  {
   "cell_type": "code",
   "execution_count": 32,
   "metadata": {
    "ExecuteTime": {
     "end_time": "2018-11-26T21:21:21.155551Z",
     "start_time": "2018-11-26T21:21:21.114683Z"
    },
    "colab": {
     "base_uri": "https://localhost:8080/",
     "height": 71
    },
    "colab_type": "code",
    "executionInfo": {
     "elapsed": 1224,
     "status": "ok",
     "timestamp": 1543858099553,
     "user": {
      "displayName": "Basile Dura",
      "photoUrl": "https://lh5.googleusercontent.com/-VYKwAw35RKU/AAAAAAAAAAI/AAAAAAAAS-Q/tpwWee7Y2yA/s64/photo.jpg",
      "userId": "10273963106894465933"
     },
     "user_tz": 300
    },
    "id": "r2rgsjC60ZcW",
    "outputId": "702f13e0-11ce-423f-9c72-deba4b5e99df"
   },
   "outputs": [
    {
     "name": "stderr",
     "output_type": "stream",
     "text": [
      "/usr/local/lib/python3.6/dist-packages/torch/onnx/symbolic.py:69: UserWarning: ONNX export failed on dim because ONNX and PyTorch use different strategies to split the input. not supported\n",
      "  warnings.warn(\"ONNX export failed on \" + op + \" because \" + msg + \" not supported\")\n"
     ]
    }
   ],
   "source": [
    "dummy_input = torch.autograd.Variable(torch.rand(1, 1968))\n",
    "writer.add_graph(model, dummy_input)"
   ]
  },
  {
   "cell_type": "markdown",
   "metadata": {
    "colab_type": "text",
    "id": "lTPCbxx40ZcY"
   },
   "source": [
    "## Training and testing"
   ]
  },
  {
   "cell_type": "markdown",
   "metadata": {
    "colab_type": "text",
    "id": "H3NcKOqS0ZcZ"
   },
   "source": [
    "We define the device used during the gradient descent:"
   ]
  },
  {
   "cell_type": "code",
   "execution_count": 0,
   "metadata": {
    "ExecuteTime": {
     "end_time": "2018-11-26T21:21:22.017232Z",
     "start_time": "2018-11-26T21:21:21.990086Z"
    },
    "colab": {},
    "colab_type": "code",
    "id": "Lhd53nPo0ZcZ"
   },
   "outputs": [],
   "source": [
    "if torch.cuda.is_available():\n",
    "    device = torch.device('cuda')\n",
    "else:\n",
    "    device = torch.device('cpu')"
   ]
  },
  {
   "cell_type": "code",
   "execution_count": 0,
   "metadata": {
    "colab": {},
    "colab_type": "code",
    "id": "nBIQWe8g-ZoZ"
   },
   "outputs": [],
   "source": [
    "model = proteins.WassersteinAutoEncoder(ksi=10)"
   ]
  },
  {
   "cell_type": "code",
   "execution_count": 0,
   "metadata": {
    "colab": {},
    "colab_type": "code",
    "id": "1jdLnnp4KPog"
   },
   "outputs": [],
   "source": [
    "model = model.to(device)"
   ]
  },
  {
   "cell_type": "markdown",
   "metadata": {
    "colab_type": "text",
    "id": "KeaLYiuA0Zcb"
   },
   "source": [
    "We define the learning rate:"
   ]
  },
  {
   "cell_type": "code",
   "execution_count": 0,
   "metadata": {
    "ExecuteTime": {
     "end_time": "2018-11-26T21:21:22.332306Z",
     "start_time": "2018-11-26T21:21:22.307843Z"
    },
    "colab": {},
    "colab_type": "code",
    "id": "SsaWeceB0Zcc"
   },
   "outputs": [],
   "source": [
    "learning_rate = 1e-5"
   ]
  },
  {
   "cell_type": "markdown",
   "metadata": {
    "colab_type": "text",
    "id": "5ZoqK4ye0Zcf"
   },
   "source": [
    "And the optimizer:"
   ]
  },
  {
   "cell_type": "code",
   "execution_count": 0,
   "metadata": {
    "ExecuteTime": {
     "end_time": "2018-11-26T21:21:22.929121Z",
     "start_time": "2018-11-26T21:21:22.901304Z"
    },
    "colab": {},
    "colab_type": "code",
    "id": "mak4tHvI0Zcg"
   },
   "outputs": [],
   "source": [
    "optimizer = torch.optim.Adam(model.parameters(), lr=learning_rate, weight_decay=1e-5)"
   ]
  },
  {
   "cell_type": "markdown",
   "metadata": {
    "colab_type": "text",
    "id": "uBaK4ODP0Zcj"
   },
   "source": [
    "## Sampling space"
   ]
  },
  {
   "cell_type": "markdown",
   "metadata": {
    "colab_type": "text",
    "id": "kmyGHUTF0Zcl"
   },
   "source": [
    "We want to sample from the latent space."
   ]
  },
  {
   "cell_type": "code",
   "execution_count": 0,
   "metadata": {
    "ExecuteTime": {
     "end_time": "2018-11-26T21:21:23.406036Z",
     "start_time": "2018-11-26T21:21:23.374433Z"
    },
    "colab": {},
    "colab_type": "code",
    "id": "dVyyHUWK0Zcm"
   },
   "outputs": [],
   "source": [
    "space = np.array(\n",
    "    [\n",
    "        [x, y] \n",
    "        for y in np.linspace(-1.5, 1.5, 16) \n",
    "        for x in np.linspace(-1.5, 1.5, 16)\n",
    "    ], \n",
    "    dtype=np.float\n",
    ")\n",
    "\n",
    "space = torch.from_numpy(space).type(torch.FloatTensor)"
   ]
  },
  {
   "cell_type": "markdown",
   "metadata": {
    "colab_type": "text",
    "id": "h4JkhYsl0Zco"
   },
   "source": [
    "# Training"
   ]
  },
  {
   "cell_type": "code",
   "execution_count": 48,
   "metadata": {
    "ExecuteTime": {
     "end_time": "2018-11-26T21:24:09.581196Z",
     "start_time": "2018-11-26T21:21:24.335462Z"
    },
    "colab": {
     "base_uri": "https://localhost:8080/",
     "height": 34
    },
    "colab_type": "code",
    "executionInfo": {
     "elapsed": 289622,
     "status": "ok",
     "timestamp": 1543859172640,
     "user": {
      "displayName": "Basile Dura",
      "photoUrl": "https://lh5.googleusercontent.com/-VYKwAw35RKU/AAAAAAAAAAI/AAAAAAAAS-Q/tpwWee7Y2yA/s64/photo.jpg",
      "userId": "10273963106894465933"
     },
     "user_tz": 300
    },
    "id": "AtiVbxgp0Zco",
    "outputId": "a2e87418-2eb4-47d1-bf94-e073183aae9f"
   },
   "outputs": [
    {
     "name": "stderr",
     "output_type": "stream",
     "text": [
      "100%|###############################################################| 50/50 [04:48<00:00,  5.76s/it]\n"
     ]
    }
   ],
   "source": [
    "for epoch in tqdm(range(50, 100), ascii=True, ncols=100):\n",
    "    \n",
    "    proteins.train(epoch, model, optimizer, train_loader, device, writer)\n",
    "    proteins.test(epoch, model, validation_loader, device, writer)"
   ]
  },
  {
   "cell_type": "markdown",
   "metadata": {
    "colab_type": "text",
    "id": "zgGD27l2INTy"
   },
   "source": [
    "# Saving"
   ]
  },
  {
   "cell_type": "code",
   "execution_count": 0,
   "metadata": {
    "colab": {},
    "colab_type": "code",
    "id": "kYHUOHpY0Zcs"
   },
   "outputs": [],
   "source": [
    "torch.save(model.state_dict(), MODELS_PATH + 'wae.weights')"
   ]
  },
  {
   "cell_type": "code",
   "execution_count": 0,
   "metadata": {
    "colab": {},
    "colab_type": "code",
    "id": "NZFzZP7yIrMm"
   },
   "outputs": [],
   "source": [
    "model = proteins.WassersteinAutoEncoder(ksi=10.)\n",
    "model.load_state_dict(torch.load(MODELS_PATH + 'wae.weights'))"
   ]
  },
  {
   "cell_type": "code",
   "execution_count": 45,
   "metadata": {
    "colab": {
     "base_uri": "https://localhost:8080/",
     "height": 187
    },
    "colab_type": "code",
    "executionInfo": {
     "elapsed": 1281,
     "status": "ok",
     "timestamp": 1543858576655,
     "user": {
      "displayName": "Basile Dura",
      "photoUrl": "https://lh5.googleusercontent.com/-VYKwAw35RKU/AAAAAAAAAAI/AAAAAAAAS-Q/tpwWee7Y2yA/s64/photo.jpg",
      "userId": "10273963106894465933"
     },
     "user_tz": 300
    },
    "id": "pWGsbHSFJD4p",
    "outputId": "20a9ed07-8b97-4e67-d7d2-fe637f345b1f"
   },
   "outputs": [
    {
     "name": "stdout",
     "output_type": "stream",
     "text": [
      "WassersteinAutoEncoder(\n",
      "  (fc1): Linear(in_features=1968, out_features=512, bias=True)\n",
      "  (fc2): Linear(in_features=512, out_features=128, bias=True)\n",
      "  (fc3): Linear(in_features=128, out_features=32, bias=True)\n",
      "  (fc4): Linear(in_features=32, out_features=2, bias=True)\n",
      "  (fc5): Linear(in_features=2, out_features=32, bias=True)\n",
      "  (fc6): Linear(in_features=32, out_features=128, bias=True)\n",
      "  (fc7): Linear(in_features=128, out_features=512, bias=True)\n",
      "  (fc8): Linear(in_features=512, out_features=1968, bias=True)\n",
      ")\n"
     ]
    }
   ],
   "source": [
    "print(model)"
   ]
  },
  {
   "cell_type": "code",
   "execution_count": 0,
   "metadata": {
    "colab": {},
    "colab_type": "code",
    "id": "eM3U3b8hJFeX"
   },
   "outputs": [],
   "source": []
  }
 ],
 "metadata": {
  "accelerator": "GPU",
  "colab": {
   "collapsed_sections": [],
   "name": "WAE Proteins.ipynb",
   "provenance": [],
   "toc_visible": true,
   "version": "0.3.2"
  },
  "kernelspec": {
   "display_name": "Python 3",
   "language": "python",
   "name": "python3"
  },
  "language_info": {
   "codemirror_mode": {
    "name": "ipython",
    "version": 3
   },
   "file_extension": ".py",
   "mimetype": "text/x-python",
   "name": "python",
   "nbconvert_exporter": "python",
   "pygments_lexer": "ipython3",
   "version": "3.7.1"
  },
  "toc": {
   "base_numbering": 1,
   "nav_menu": {},
   "number_sections": true,
   "sideBar": true,
   "skip_h1_title": false,
   "title_cell": "Table of Contents",
   "title_sidebar": "Contents",
   "toc_cell": false,
   "toc_position": {},
   "toc_section_display": true,
   "toc_window_display": false
  }
 },
 "nbformat": 4,
 "nbformat_minor": 1
}

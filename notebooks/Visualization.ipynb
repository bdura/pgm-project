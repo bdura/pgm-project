{
 "cells": [
  {
   "cell_type": "markdown",
   "metadata": {},
   "source": [
    "<div style=\"text-align: center; font-size: 30pt; font-weight: bold; margin: 1em 0em 1em 0em\">Visualization</div>"
   ]
  },
  {
   "cell_type": "code",
   "execution_count": 1,
   "metadata": {
    "ExecuteTime": {
     "end_time": "2018-12-04T17:15:19.472055Z",
     "start_time": "2018-12-04T17:15:19.468180Z"
    }
   },
   "outputs": [],
   "source": [
    "import sys, os"
   ]
  },
  {
   "cell_type": "code",
   "execution_count": 2,
   "metadata": {
    "ExecuteTime": {
     "end_time": "2018-12-04T17:15:19.888186Z",
     "start_time": "2018-12-04T17:15:19.884903Z"
    }
   },
   "outputs": [],
   "source": [
    "sys.path.append(os.path.abspath('../autoencoders'))"
   ]
  },
  {
   "cell_type": "code",
   "execution_count": 3,
   "metadata": {
    "ExecuteTime": {
     "end_time": "2018-12-04T17:15:20.837091Z",
     "start_time": "2018-12-04T17:15:20.421780Z"
    }
   },
   "outputs": [],
   "source": [
    "# \"Magic\" commands for automatic reloading of module, perfect for prototyping\n",
    "%reload_ext autoreload\n",
    "%autoreload 2\n",
    "\n",
    "import wasserstein\n",
    "import proteins\n",
    "import visualization"
   ]
  },
  {
   "cell_type": "code",
   "execution_count": 4,
   "metadata": {
    "ExecuteTime": {
     "end_time": "2018-12-04T17:15:21.450600Z",
     "start_time": "2018-12-04T17:15:21.428424Z"
    }
   },
   "outputs": [],
   "source": [
    "import matplotlib.pyplot as plt"
   ]
  },
  {
   "cell_type": "code",
   "execution_count": 5,
   "metadata": {
    "ExecuteTime": {
     "end_time": "2018-12-04T17:15:21.979127Z",
     "start_time": "2018-12-04T17:15:21.942521Z"
    }
   },
   "outputs": [],
   "source": [
    "# LaTeX rendering in graphs\n",
    "try:\n",
    "    plt.rc('text', usetex=True)\n",
    "except:\n",
    "    pass\n",
    "\n",
    "plt.rc('font', family='serif')\n",
    "\n",
    "# High resolution graphs\n",
    "%config InlineBackend.figure_format = 'retina'"
   ]
  },
  {
   "cell_type": "code",
   "execution_count": 69,
   "metadata": {
    "ExecuteTime": {
     "end_time": "2018-12-04T17:38:24.227963Z",
     "start_time": "2018-12-04T17:38:23.725126Z"
    }
   },
   "outputs": [],
   "source": [
    "import numpy as np\n",
    "import pandas as pd\n",
    "\n",
    "import torch"
   ]
  },
  {
   "cell_type": "markdown",
   "metadata": {},
   "source": [
    "# Paths"
   ]
  },
  {
   "cell_type": "code",
   "execution_count": 7,
   "metadata": {
    "ExecuteTime": {
     "end_time": "2018-12-04T17:15:23.670941Z",
     "start_time": "2018-12-04T17:15:23.647778Z"
    }
   },
   "outputs": [],
   "source": [
    "ROOT = '../'"
   ]
  },
  {
   "cell_type": "code",
   "execution_count": 8,
   "metadata": {
    "ExecuteTime": {
     "end_time": "2018-12-04T17:15:23.985770Z",
     "start_time": "2018-12-04T17:15:23.959922Z"
    }
   },
   "outputs": [],
   "source": [
    "MODULE_PATH = ROOT + 'autoencoders/'\n",
    "DATA_PATH = ROOT + 'data/'\n",
    "NOTEBOOK_PATH = ROOT + 'notebooks/'\n",
    "MODELS_PATH = ROOT + 'models/'\n",
    "GRAPHICS_PATH = ROOT + 'graphics/'"
   ]
  },
  {
   "cell_type": "markdown",
   "metadata": {},
   "source": [
    "# Loading the model"
   ]
  },
  {
   "cell_type": "code",
   "execution_count": 9,
   "metadata": {
    "ExecuteTime": {
     "end_time": "2018-12-04T17:15:36.249640Z",
     "start_time": "2018-12-04T17:15:36.198019Z"
    }
   },
   "outputs": [],
   "source": [
    "model = proteins.WassersteinAutoEncoder(ksi=10., hidden_dimension=10)\n",
    "model.load_state_dict(torch.load(MODELS_PATH + 'wae-h=10.weights', map_location='cpu'))"
   ]
  },
  {
   "cell_type": "code",
   "execution_count": 21,
   "metadata": {
    "ExecuteTime": {
     "end_time": "2018-12-04T17:17:53.820739Z",
     "start_time": "2018-12-04T17:17:53.763098Z"
    }
   },
   "outputs": [],
   "source": [
    "model2 = proteins.WassersteinAutoEncoder(ksi=10., hidden_dimension=2)\n",
    "model2.load_state_dict(torch.load(MODELS_PATH + 'wae.weights', map_location='cpu'))"
   ]
  },
  {
   "cell_type": "markdown",
   "metadata": {},
   "source": [
    "# Dataset"
   ]
  },
  {
   "cell_type": "code",
   "execution_count": 10,
   "metadata": {
    "ExecuteTime": {
     "end_time": "2018-12-04T17:15:44.012283Z",
     "start_time": "2018-12-04T17:15:43.237401Z"
    }
   },
   "outputs": [],
   "source": [
    "complete_set = np.load(DATA_PATH + 'pgm-dataset.npy')"
   ]
  },
  {
   "cell_type": "code",
   "execution_count": 11,
   "metadata": {
    "ExecuteTime": {
     "end_time": "2018-12-04T17:15:45.808822Z",
     "start_time": "2018-12-04T17:15:45.783038Z"
    }
   },
   "outputs": [],
   "source": [
    "prot = visualization.Protein(complete_set[0])"
   ]
  },
  {
   "cell_type": "code",
   "execution_count": 12,
   "metadata": {
    "ExecuteTime": {
     "end_time": "2018-12-04T17:15:50.260222Z",
     "start_time": "2018-12-04T17:15:47.851339Z"
    }
   },
   "outputs": [
    {
     "data": {
      "image/png": "[encoded data removed]",
      "text/plain": [
       "<Figure size 720x720 with 2 Axes>"
      ]
     },
     "metadata": {
      "image/png": {
       "height": 249,
       "width": 595
      },
      "needs_background": "light"
     },
     "output_type": "display_data"
    }
   ],
   "source": [
    "prot.plot_sequence(title='Test', save=GRAPHICS_PATH+'test-visualization.pdf')"
   ]
  },
  {
   "cell_type": "code",
   "execution_count": 67,
   "metadata": {
    "ExecuteTime": {
     "end_time": "2018-12-04T17:37:44.698348Z",
     "start_time": "2018-12-04T17:37:40.296234Z"
    }
   },
   "outputs": [],
   "source": [
    "with torch.no_grad():\n",
    "    reconstruction, latent = model(torch.Tensor(complete_set))"
   ]
  },
  {
   "cell_type": "code",
   "execution_count": 68,
   "metadata": {
    "ExecuteTime": {
     "end_time": "2018-12-04T17:37:52.078928Z",
     "start_time": "2018-12-04T17:37:48.004982Z"
    }
   },
   "outputs": [],
   "source": [
    "with torch.no_grad():\n",
    "    reconstruction2, latent2 = model2(torch.Tensor(complete_set))"
   ]
  },
  {
   "cell_type": "code",
   "execution_count": 71,
   "metadata": {
    "ExecuteTime": {
     "end_time": "2018-12-04T17:50:50.702085Z",
     "start_time": "2018-12-04T17:50:50.524828Z"
    }
   },
   "outputs": [],
   "source": [
    "reconstruction = np.array(reconstruction)"
   ]
  },
  {
   "cell_type": "code",
   "execution_count": 72,
   "metadata": {
    "ExecuteTime": {
     "end_time": "2018-12-04T17:50:50.924251Z",
     "start_time": "2018-12-04T17:50:50.752986Z"
    }
   },
   "outputs": [],
   "source": [
    "reconstruction2 = np.array(reconstruction2)"
   ]
  },
  {
   "cell_type": "code",
   "execution_count": null,
   "metadata": {
    "ExecuteTime": {
     "start_time": "2018-12-04T17:50:52.428Z"
    }
   },
   "outputs": [],
   "source": [
    "accuracy = pd.DataFrame(columns=[2, 10])\n",
    "\n",
    "for i in range(len(reconstruction)):\n",
    "    p = complete_set[i].reshape(24, 82)\n",
    "    r = reconstruction[i].reshape(24, 82)\n",
    "    r2 = reconstruction2[i].reshape(24, 82)\n",
    "    \n",
    "    accuracy.loc[i, 2] = (r2.argmax(axis=0) == p.argmax(axis=0)).sum() * 100 / 82\n",
    "    accuracy.loc[i, 10] = (r.argmax(axis=0) == p.argmax(axis=0)).sum() * 100 / 82"
   ]
  },
  {
   "cell_type": "code",
   "execution_count": 74,
   "metadata": {
    "ExecuteTime": {
     "end_time": "2018-12-04T18:11:29.569394Z",
     "start_time": "2018-12-04T18:11:29.515394Z"
    }
   },
   "outputs": [
    {
     "data": {
      "text/html": [
       "<div>\n",
       "<style scoped>\n",
       "    .dataframe tbody tr th:only-of-type {\n",
       "        vertical-align: middle;\n",
       "    }\n",
       "\n",
       "    .dataframe tbody tr th {\n",
       "        vertical-align: top;\n",
       "    }\n",
       "\n",
       "    .dataframe thead th {\n",
       "        text-align: right;\n",
       "    }\n",
       "</style>\n",
       "<table border=\"1\" class=\"dataframe\">\n",
       "  <thead>\n",
       "    <tr style=\"text-align: right;\">\n",
       "      <th></th>\n",
       "      <th>2</th>\n",
       "      <th>10</th>\n",
       "    </tr>\n",
       "  </thead>\n",
       "  <tbody>\n",
       "    <tr>\n",
       "      <th>count</th>\n",
       "      <td>21410.000000</td>\n",
       "      <td>21409.000000</td>\n",
       "    </tr>\n",
       "    <tr>\n",
       "      <th>unique</th>\n",
       "      <td>65.000000</td>\n",
       "      <td>65.000000</td>\n",
       "    </tr>\n",
       "    <tr>\n",
       "      <th>top</th>\n",
       "      <td>97.560976</td>\n",
       "      <td>96.341463</td>\n",
       "    </tr>\n",
       "    <tr>\n",
       "      <th>freq</th>\n",
       "      <td>1689.000000</td>\n",
       "      <td>1564.000000</td>\n",
       "    </tr>\n",
       "  </tbody>\n",
       "</table>\n",
       "</div>"
      ],
      "text/plain": [
       "                  2             10\n",
       "count   21410.000000  21409.000000\n",
       "unique     65.000000     65.000000\n",
       "top        97.560976     96.341463\n",
       "freq     1689.000000   1564.000000"
      ]
     },
     "execution_count": 74,
     "metadata": {},
     "output_type": "execute_result"
    }
   ],
   "source": [
    "accuracy.describe()"
   ]
  },
  {
   "cell_type": "code",
   "execution_count": 49,
   "metadata": {
    "ExecuteTime": {
     "end_time": "2018-12-04T17:24:04.367238Z",
     "start_time": "2018-12-04T17:24:04.344758Z"
    }
   },
   "outputs": [],
   "source": [
    "i = -1"
   ]
  },
  {
   "cell_type": "code",
   "execution_count": 66,
   "metadata": {
    "ExecuteTime": {
     "end_time": "2018-12-04T17:24:36.135400Z",
     "start_time": "2018-12-04T17:24:35.219512Z"
    }
   },
   "outputs": [
    {
     "name": "stdout",
     "output_type": "stream",
     "text": [
      "16\n",
      "Accuracy h=10 : 37.80487804878049\n",
      "Accuracy h=2  : 40.24390243902439\n"
     ]
    },
    {
     "data": {
      "image/png": "[encoded data removed]",
      "text/plain": [
       "<Figure size 720x720 with 2 Axes>"
      ]
     },
     "metadata": {
      "image/png": {
       "height": 249,
       "width": 591
      },
      "needs_background": "light"
     },
     "output_type": "display_data"
    },
    {
     "data": {
      "image/png": "[encoded data removed]",
      "text/plain": [
       "<Figure size 720x720 with 2 Axes>"
      ]
     },
     "metadata": {
      "image/png": {
       "height": 249,
       "width": 595
      },
      "needs_background": "light"
     },
     "output_type": "display_data"
    },
    {
     "data": {
      "image/png": "[encoded data removed]",
      "text/plain": [
       "<Figure size 720x720 with 2 Axes>"
      ]
     },
     "metadata": {
      "image/png": {
       "height": 249,
       "width": 591
      },
      "needs_background": "light"
     },
     "output_type": "display_data"
    }
   ],
   "source": [
    "i += 1\n",
    "\n",
    "print(i)\n",
    "\n",
    "prot = visualization.Protein(complete_set[i])\n",
    "recon = visualization.Protein(reconstruction[i])\n",
    "recon2 = visualization.Protein(reconstruction2[i])\n",
    "\n",
    "accuracy = (recon.array.argmax(axis=0) == prot.array.argmax(axis=0)).sum() * 100 / 82\n",
    "accuracy2 = (recon2.array.argmax(axis=0) == prot.array.argmax(axis=0)).sum() * 100 / 82\n",
    "\n",
    "recon.array[prot.array == 0] = 0\n",
    "recon2.array[prot.array == 0] = 0\n",
    "\n",
    "print('Accuracy h=10 : {acc}'.format(acc=accuracy))\n",
    "print('Accuracy h=2  : {acc}'.format(acc=accuracy2))\n",
    "\n",
    "recon.plot_sequence(title='Reconstruction10 (where = 1)')\n",
    "prot.plot_sequence(title='Original')\n",
    "recon2.plot_sequence(title='Reconstruction2 (where = 1)')"
   ]
  },
  {
   "cell_type": "code",
   "execution_count": 30,
   "metadata": {
    "ExecuteTime": {
     "end_time": "2018-12-04T17:21:48.774733Z",
     "start_time": "2018-12-04T17:21:48.746115Z"
    }
   },
   "outputs": [
    {
     "data": {
      "text/plain": [
       "100.0"
      ]
     },
     "execution_count": 30,
     "metadata": {},
     "output_type": "execute_result"
    }
   ],
   "source": [
    "(recon2.array.argmax(axis=0) == prot.array.argmax(axis=0)).sum() * 100 / 82"
   ]
  },
  {
   "cell_type": "code",
   "execution_count": null,
   "metadata": {},
   "outputs": [],
   "source": []
  }
 ],
 "metadata": {
  "kernelspec": {
   "display_name": "Python 3",
   "language": "python",
   "name": "python3"
  },
  "language_info": {
   "codemirror_mode": {
    "name": "ipython",
    "version": 3
   },
   "file_extension": ".py",
   "mimetype": "text/x-python",
   "name": "python",
   "nbconvert_exporter": "python",
   "pygments_lexer": "ipython3",
   "version": "3.7.1"
  },
  "toc": {
   "base_numbering": 1,
   "nav_menu": {},
   "number_sections": true,
   "sideBar": true,
   "skip_h1_title": false,
   "title_cell": "Table of Contents",
   "title_sidebar": "Contents",
   "toc_cell": false,
   "toc_position": {},
   "toc_section_display": true,
   "toc_window_display": false
  }
 },
 "nbformat": 4,
 "nbformat_minor": 2
}

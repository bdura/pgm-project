{
 "cells": [
  {
   "cell_type": "code",
   "execution_count": 1,
   "metadata": {
    "ExecuteTime": {
     "end_time": "2018-12-03T17:53:49.752612Z",
     "start_time": "2018-12-03T17:53:49.745945Z"
    }
   },
   "outputs": [],
   "source": [
    "import sys, os"
   ]
  },
  {
   "cell_type": "code",
   "execution_count": 2,
   "metadata": {
    "ExecuteTime": {
     "end_time": "2018-12-03T17:53:57.187781Z",
     "start_time": "2018-12-03T17:53:57.182542Z"
    }
   },
   "outputs": [],
   "source": [
    "sys.path.append(os.path.abspath('../autoencoders'))"
   ]
  },
  {
   "cell_type": "code",
   "execution_count": 3,
   "metadata": {
    "ExecuteTime": {
     "end_time": "2018-12-03T17:54:09.138054Z",
     "start_time": "2018-12-03T17:54:07.437552Z"
    }
   },
   "outputs": [],
   "source": [
    "# \"Magic\" commands for automatic reloading of module, perfect for prototyping\n",
    "%reload_ext autoreload\n",
    "%autoreload 2\n",
    "\n",
    "import wasserstein\n",
    "import proteins"
   ]
  },
  {
   "cell_type": "code",
   "execution_count": 4,
   "metadata": {
    "ExecuteTime": {
     "end_time": "2018-12-03T17:54:19.118336Z",
     "start_time": "2018-12-03T17:54:19.093614Z"
    }
   },
   "outputs": [],
   "source": [
    "import torch"
   ]
  },
  {
   "cell_type": "code",
   "execution_count": null,
   "metadata": {},
   "outputs": [],
   "source": [
    "model = proteins.WassersteinAutoEncoder(ksi=10.)\n",
    "model.load_state_dict(torch.load(MODELS_PATH + 'wae.weights'))"
   ]
  }
 ],
 "metadata": {
  "kernelspec": {
   "display_name": "Python 3",
   "language": "python",
   "name": "python3"
  },
  "language_info": {
   "codemirror_mode": {
    "name": "ipython",
    "version": 3
   },
   "file_extension": ".py",
   "mimetype": "text/x-python",
   "name": "python",
   "nbconvert_exporter": "python",
   "pygments_lexer": "ipython3",
   "version": "3.7.1"
  },
  "toc": {
   "base_numbering": 1,
   "nav_menu": {},
   "number_sections": true,
   "sideBar": true,
   "skip_h1_title": false,
   "title_cell": "Table of Contents",
   "title_sidebar": "Contents",
   "toc_cell": false,
   "toc_position": {},
   "toc_section_display": true,
   "toc_window_display": false
  }
 },
 "nbformat": 4,
 "nbformat_minor": 2
}

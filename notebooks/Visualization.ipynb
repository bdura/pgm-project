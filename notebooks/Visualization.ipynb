{
 "cells": [
  {
   "cell_type": "markdown",
   "metadata": {},
   "source": [
    "<div style=\"text-align: center; font-size: 30pt; font-weight: bold; margin: 1em 0em 1em 0em\">Visualization</div>"
   ]
  },
  {
   "cell_type": "code",
   "execution_count": 1,
   "metadata": {
    "ExecuteTime": {
     "end_time": "2018-12-04T17:15:19.472055Z",
     "start_time": "2018-12-04T17:15:19.468180Z"
    }
   },
   "outputs": [],
   "source": [
    "import sys, os"
   ]
  },
  {
   "cell_type": "code",
   "execution_count": 2,
   "metadata": {
    "ExecuteTime": {
     "end_time": "2018-12-04T17:15:19.888186Z",
     "start_time": "2018-12-04T17:15:19.884903Z"
    }
   },
   "outputs": [],
   "source": [
    "sys.path.append(os.path.abspath('../autoencoders'))"
   ]
  },
  {
   "cell_type": "code",
   "execution_count": 3,
   "metadata": {
    "ExecuteTime": {
     "end_time": "2018-12-04T17:15:20.837091Z",
     "start_time": "2018-12-04T17:15:20.421780Z"
    }
   },
   "outputs": [],
   "source": [
    "# \"Magic\" commands for automatic reloading of module, perfect for prototyping\n",
    "%reload_ext autoreload\n",
    "%autoreload 2\n",
    "\n",
    "import wasserstein\n",
    "import proteins\n",
    "import visualization"
   ]
  },
  {
   "cell_type": "code",
   "execution_count": 4,
   "metadata": {
    "ExecuteTime": {
     "end_time": "2018-12-04T17:15:21.450600Z",
     "start_time": "2018-12-04T17:15:21.428424Z"
    }
   },
   "outputs": [],
   "source": [
    "import matplotlib.pyplot as plt"
   ]
  },
  {
   "cell_type": "code",
   "execution_count": 5,
   "metadata": {
    "ExecuteTime": {
     "end_time": "2018-12-04T17:15:21.979127Z",
     "start_time": "2018-12-04T17:15:21.942521Z"
    }
   },
   "outputs": [],
   "source": [
    "# LaTeX rendering in graphs\n",
    "try:\n",
    "    plt.rc('text', usetex=True)\n",
    "except:\n",
    "    pass\n",
    "\n",
    "plt.rc('font', family='serif')\n",
    "\n",
    "# High resolution graphs\n",
    "%config InlineBackend.figure_format = 'retina'"
   ]
  },
  {
   "cell_type": "code",
   "execution_count": 6,
   "metadata": {
    "ExecuteTime": {
     "end_time": "2018-12-04T17:38:24.227963Z",
     "start_time": "2018-12-04T17:38:23.725126Z"
    }
   },
   "outputs": [],
   "source": [
    "import numpy as np\n",
    "import pandas as pd\n",
    "\n",
    "import torch"
   ]
  },
  {
   "cell_type": "code",
   "execution_count": 7,
   "metadata": {},
   "outputs": [],
   "source": [
    "from tqdm import tqdm"
   ]
  },
  {
   "cell_type": "markdown",
   "metadata": {},
   "source": [
    "# Paths"
   ]
  },
  {
   "cell_type": "code",
   "execution_count": 8,
   "metadata": {
    "ExecuteTime": {
     "end_time": "2018-12-04T17:15:23.670941Z",
     "start_time": "2018-12-04T17:15:23.647778Z"
    }
   },
   "outputs": [],
   "source": [
    "ROOT = '../'"
   ]
  },
  {
   "cell_type": "code",
   "execution_count": 9,
   "metadata": {
    "ExecuteTime": {
     "end_time": "2018-12-04T17:15:23.985770Z",
     "start_time": "2018-12-04T17:15:23.959922Z"
    }
   },
   "outputs": [],
   "source": [
    "MODULE_PATH = ROOT + 'autoencoders/'\n",
    "DATA_PATH = ROOT + 'data/'\n",
    "NOTEBOOK_PATH = ROOT + 'notebooks/'\n",
    "MODELS_PATH = ROOT + 'models/'\n",
    "GRAPHICS_PATH = ROOT + 'graphics/'"
   ]
  },
  {
   "cell_type": "markdown",
   "metadata": {},
   "source": [
    "# Loading the model"
   ]
  },
  {
   "cell_type": "code",
   "execution_count": 15,
   "metadata": {
    "ExecuteTime": {
     "end_time": "2018-12-04T17:15:36.249640Z",
     "start_time": "2018-12-04T17:15:36.198019Z"
    }
   },
   "outputs": [],
   "source": [
    "model = proteins.WassersteinAutoEncoder(ksi=10., hidden_dimension=10)\n",
    "model.load_state_dict(torch.load(MODELS_PATH + 'wae-h=10.weights', map_location='cpu'))"
   ]
  },
  {
   "cell_type": "code",
   "execution_count": 16,
   "metadata": {
    "ExecuteTime": {
     "end_time": "2018-12-04T17:17:53.820739Z",
     "start_time": "2018-12-04T17:17:53.763098Z"
    }
   },
   "outputs": [],
   "source": [
    "model2 = proteins.WassersteinAutoEncoder(ksi=10., hidden_dimension=2)\n",
    "model2.load_state_dict(torch.load(MODELS_PATH + 'wae.weights', map_location='cpu'))"
   ]
  },
  {
   "cell_type": "markdown",
   "metadata": {},
   "source": [
    "# Dataset"
   ]
  },
  {
   "cell_type": "code",
   "execution_count": 12,
   "metadata": {
    "ExecuteTime": {
     "end_time": "2018-12-04T17:15:44.012283Z",
     "start_time": "2018-12-04T17:15:43.237401Z"
    }
   },
   "outputs": [],
   "source": [
    "complete_set = np.load(DATA_PATH + 'pgm-dataset.npy')"
   ]
  },
  {
   "cell_type": "code",
   "execution_count": 13,
   "metadata": {
    "ExecuteTime": {
     "end_time": "2018-12-04T17:15:45.808822Z",
     "start_time": "2018-12-04T17:15:45.783038Z"
    }
   },
   "outputs": [],
   "source": [
    "prot = visualization.Protein(complete_set[0])"
   ]
  },
  {
   "cell_type": "code",
   "execution_count": 14,
   "metadata": {
    "ExecuteTime": {
     "end_time": "2018-12-04T17:15:50.260222Z",
     "start_time": "2018-12-04T17:15:47.851339Z"
    }
   },
   "outputs": [
    {
     "data": {
      "image/png": "[encoded data removed]",
      "text/plain": [
       "<Figure size 720x720 with 2 Axes>"
      ]
     },
     "metadata": {
      "image/png": {
       "height": 249,
       "width": 595
      },
      "needs_background": "light"
     },
     "output_type": "display_data"
    }
   ],
   "source": [
    "prot.plot_sequence(title='Test', save=GRAPHICS_PATH+'test-visualization.pdf')"
   ]
  },
  {
   "cell_type": "markdown",
   "metadata": {},
   "source": [
    "Let us look at the accuracy (number of letters predicted right) and the log-probability of the sequence as output by the network. To that end, we added a `log_softmax()` method in order to use the eponymous stable loss function from `PyTorch`."
   ]
  },
  {
   "cell_type": "code",
   "execution_count": 17,
   "metadata": {
    "ExecuteTime": {
     "end_time": "2018-12-04T17:37:44.698348Z",
     "start_time": "2018-12-04T17:37:40.296234Z"
    }
   },
   "outputs": [],
   "source": [
    "with torch.no_grad():\n",
    "    reconstruction = model.log_softmax(torch.Tensor(complete_set))"
   ]
  },
  {
   "cell_type": "code",
   "execution_count": 18,
   "metadata": {
    "ExecuteTime": {
     "end_time": "2018-12-04T17:37:52.078928Z",
     "start_time": "2018-12-04T17:37:48.004982Z"
    }
   },
   "outputs": [],
   "source": [
    "with torch.no_grad():\n",
    "    reconstruction2 = model2.log_softmax(torch.Tensor(complete_set))"
   ]
  },
  {
   "cell_type": "code",
   "execution_count": 19,
   "metadata": {
    "ExecuteTime": {
     "end_time": "2018-12-04T17:50:50.702085Z",
     "start_time": "2018-12-04T17:50:50.524828Z"
    }
   },
   "outputs": [],
   "source": [
    "reconstruction = np.array(reconstruction)"
   ]
  },
  {
   "cell_type": "code",
   "execution_count": 20,
   "metadata": {
    "ExecuteTime": {
     "end_time": "2018-12-04T17:50:50.924251Z",
     "start_time": "2018-12-04T17:50:50.752986Z"
    }
   },
   "outputs": [],
   "source": [
    "reconstruction2 = np.array(reconstruction2)"
   ]
  },
  {
   "cell_type": "markdown",
   "metadata": {},
   "source": [
    "# Accuracy of the reconstructions"
   ]
  },
  {
   "cell_type": "code",
   "execution_count": 33,
   "metadata": {
    "ExecuteTime": {
     "start_time": "2018-12-04T17:50:52.428Z"
    }
   },
   "outputs": [
    {
     "name": "stderr",
     "output_type": "stream",
     "text": [
      "100%|#######################################################| 50000/50000 [00:14<00:00, 3500.94it/s]\n"
     ]
    }
   ],
   "source": [
    "accuracy = pd.DataFrame(columns=[2, 10], index=np.arange(len(complete_set)), dtype=float)\n",
    "\n",
    "iterator = tqdm(\n",
    "    enumerate(zip(\n",
    "        reconstruction.reshape(-1, 24, 82), \n",
    "        complete_set.reshape(-1, 24, 82), \n",
    "        reconstruction2.reshape(-1, 24, 82)\n",
    "    )), \n",
    "    ascii=True, \n",
    "    ncols=100,\n",
    "    total=len(complete_set)\n",
    ")\n",
    "\n",
    "for i, (r, p, r2) in iterator:\n",
    "    \n",
    "    accuracy.loc[i, 2] = (r2.argmax(axis=0) == p.argmax(axis=0)).mean()\n",
    "    accuracy.loc[i, 10] = (r.argmax(axis=0) == p.argmax(axis=0)).mean()"
   ]
  },
  {
   "cell_type": "code",
   "execution_count": 24,
   "metadata": {},
   "outputs": [
    {
     "data": {
      "text/html": [
       "<div>\n",
       "<style scoped>\n",
       "    .dataframe tbody tr th:only-of-type {\n",
       "        vertical-align: middle;\n",
       "    }\n",
       "\n",
       "    .dataframe tbody tr th {\n",
       "        vertical-align: top;\n",
       "    }\n",
       "\n",
       "    .dataframe thead th {\n",
       "        text-align: right;\n",
       "    }\n",
       "</style>\n",
       "<table border=\"1\" class=\"dataframe\">\n",
       "  <thead>\n",
       "    <tr style=\"text-align: right;\">\n",
       "      <th></th>\n",
       "      <th>2</th>\n",
       "      <th>10</th>\n",
       "    </tr>\n",
       "  </thead>\n",
       "  <tbody>\n",
       "    <tr>\n",
       "      <th>count</th>\n",
       "      <td>50000.000000</td>\n",
       "      <td>50000.000000</td>\n",
       "    </tr>\n",
       "    <tr>\n",
       "      <th>mean</th>\n",
       "      <td>0.622569</td>\n",
       "      <td>0.679700</td>\n",
       "    </tr>\n",
       "    <tr>\n",
       "      <th>std</th>\n",
       "      <td>0.219195</td>\n",
       "      <td>0.221832</td>\n",
       "    </tr>\n",
       "    <tr>\n",
       "      <th>min</th>\n",
       "      <td>0.207317</td>\n",
       "      <td>0.195122</td>\n",
       "    </tr>\n",
       "    <tr>\n",
       "      <th>25%</th>\n",
       "      <td>0.426829</td>\n",
       "      <td>0.463415</td>\n",
       "    </tr>\n",
       "    <tr>\n",
       "      <th>50%</th>\n",
       "      <td>0.597561</td>\n",
       "      <td>0.682927</td>\n",
       "    </tr>\n",
       "    <tr>\n",
       "      <th>75%</th>\n",
       "      <td>0.829268</td>\n",
       "      <td>0.902439</td>\n",
       "    </tr>\n",
       "    <tr>\n",
       "      <th>max</th>\n",
       "      <td>1.000000</td>\n",
       "      <td>1.000000</td>\n",
       "    </tr>\n",
       "  </tbody>\n",
       "</table>\n",
       "</div>"
      ],
      "text/plain": [
       "                 2             10\n",
       "count  50000.000000  50000.000000\n",
       "mean       0.622569      0.679700\n",
       "std        0.219195      0.221832\n",
       "min        0.207317      0.195122\n",
       "25%        0.426829      0.463415\n",
       "50%        0.597561      0.682927\n",
       "75%        0.829268      0.902439\n",
       "max        1.000000      1.000000"
      ]
     },
     "execution_count": 24,
     "metadata": {},
     "output_type": "execute_result"
    }
   ],
   "source": [
    "accuracy.describe()"
   ]
  },
  {
   "cell_type": "code",
   "execution_count": 25,
   "metadata": {},
   "outputs": [
    {
     "data": {
      "text/html": [
       "<div>\n",
       "<style scoped>\n",
       "    .dataframe tbody tr th:only-of-type {\n",
       "        vertical-align: middle;\n",
       "    }\n",
       "\n",
       "    .dataframe tbody tr th {\n",
       "        vertical-align: top;\n",
       "    }\n",
       "\n",
       "    .dataframe thead th {\n",
       "        text-align: right;\n",
       "    }\n",
       "</style>\n",
       "<table border=\"1\" class=\"dataframe\">\n",
       "  <thead>\n",
       "    <tr style=\"text-align: right;\">\n",
       "      <th></th>\n",
       "      <th>2</th>\n",
       "      <th>10</th>\n",
       "    </tr>\n",
       "  </thead>\n",
       "  <tbody>\n",
       "    <tr>\n",
       "      <th>0</th>\n",
       "      <td>0.512195</td>\n",
       "      <td>0.646341</td>\n",
       "    </tr>\n",
       "    <tr>\n",
       "      <th>1</th>\n",
       "      <td>0.487805</td>\n",
       "      <td>0.560976</td>\n",
       "    </tr>\n",
       "    <tr>\n",
       "      <th>2</th>\n",
       "      <td>0.451220</td>\n",
       "      <td>0.573171</td>\n",
       "    </tr>\n",
       "    <tr>\n",
       "      <th>3</th>\n",
       "      <td>0.682927</td>\n",
       "      <td>0.524390</td>\n",
       "    </tr>\n",
       "    <tr>\n",
       "      <th>4</th>\n",
       "      <td>0.646341</td>\n",
       "      <td>0.682927</td>\n",
       "    </tr>\n",
       "  </tbody>\n",
       "</table>\n",
       "</div>"
      ],
      "text/plain": [
       "         2         10\n",
       "0  0.512195  0.646341\n",
       "1  0.487805  0.560976\n",
       "2  0.451220  0.573171\n",
       "3  0.682927  0.524390\n",
       "4  0.646341  0.682927"
      ]
     },
     "execution_count": 25,
     "metadata": {},
     "output_type": "execute_result"
    }
   ],
   "source": [
    "accuracy.head()"
   ]
  },
  {
   "cell_type": "code",
   "execution_count": 26,
   "metadata": {},
   "outputs": [],
   "source": [
    "accuracy.columns.names = ['hidden dim']\n",
    "accuracy.index.names = ['sequence ID']"
   ]
  },
  {
   "cell_type": "markdown",
   "metadata": {},
   "source": [
    "Let us save this hard-earned table:"
   ]
  },
  {
   "cell_type": "code",
   "execution_count": 27,
   "metadata": {},
   "outputs": [
    {
     "data": {
      "image/png": "[encoded data removed]",
      "text/plain": [
       "<Figure size 576x360 with 1 Axes>"
      ]
     },
     "metadata": {
      "image/png": {
       "height": 321,
       "width": 499
      },
      "needs_background": "light"
     },
     "output_type": "display_data"
    }
   ],
   "source": [
    "plt.figure(figsize=(8, 5))\n",
    "accuracy.boxplot()\n",
    "\n",
    "plt.xlabel('Dimension of the latent space', fontsize=14)\n",
    "plt.ylabel('Accuracy', fontsize=14)\n",
    "\n",
    "plt.savefig(GRAPHICS_PATH + 'accuracy-boxplots.pdf')"
   ]
  },
  {
   "cell_type": "markdown",
   "metadata": {},
   "source": [
    "# Log-probability of the reconstructions"
   ]
  },
  {
   "cell_type": "code",
   "execution_count": 34,
   "metadata": {
    "ExecuteTime": {
     "start_time": "2018-12-04T17:50:52.428Z"
    }
   },
   "outputs": [
    {
     "name": "stderr",
     "output_type": "stream",
     "text": [
      "100%|#######################################################| 50000/50000 [00:12<00:00, 4154.20it/s]\n"
     ]
    }
   ],
   "source": [
    "logprob = pd.DataFrame(columns=[2, 10], index=np.arange(len(complete_set)), dtype=np.longfloat)\n",
    "\n",
    "iterator = tqdm(\n",
    "    enumerate(zip(\n",
    "        reconstruction, \n",
    "        complete_set, \n",
    "        reconstruction2\n",
    "    )), \n",
    "    ascii=True, \n",
    "    ncols=100, \n",
    "    total=len(complete_set)\n",
    ")\n",
    "\n",
    "for i, (r, p, r2) in iterator:\n",
    "    \n",
    "    logprob.loc[i, 2] = r2[p == 1].sum()\n",
    "    logprob.loc[i, 10] = r[p == 1].sum()"
   ]
  },
  {
   "cell_type": "code",
   "execution_count": 22,
   "metadata": {},
   "outputs": [
    {
     "data": {
      "text/html": [
       "<div>\n",
       "<style scoped>\n",
       "    .dataframe tbody tr th:only-of-type {\n",
       "        vertical-align: middle;\n",
       "    }\n",
       "\n",
       "    .dataframe tbody tr th {\n",
       "        vertical-align: top;\n",
       "    }\n",
       "\n",
       "    .dataframe thead th {\n",
       "        text-align: right;\n",
       "    }\n",
       "</style>\n",
       "<table border=\"1\" class=\"dataframe\">\n",
       "  <thead>\n",
       "    <tr style=\"text-align: right;\">\n",
       "      <th></th>\n",
       "      <th>2</th>\n",
       "      <th>10</th>\n",
       "    </tr>\n",
       "  </thead>\n",
       "  <tbody>\n",
       "    <tr>\n",
       "      <th>count</th>\n",
       "      <td>50000.000000</td>\n",
       "      <td>50000.000000</td>\n",
       "    </tr>\n",
       "    <tr>\n",
       "      <th>mean</th>\n",
       "      <td>-97.403748</td>\n",
       "      <td>-86.067389</td>\n",
       "    </tr>\n",
       "    <tr>\n",
       "      <th>std</th>\n",
       "      <td>53.150451</td>\n",
       "      <td>55.021237</td>\n",
       "    </tr>\n",
       "    <tr>\n",
       "      <th>min</th>\n",
       "      <td>-261.561798</td>\n",
       "      <td>-466.337158</td>\n",
       "    </tr>\n",
       "    <tr>\n",
       "      <th>25%</th>\n",
       "      <td>-142.929443</td>\n",
       "      <td>-136.128292</td>\n",
       "    </tr>\n",
       "    <tr>\n",
       "      <th>50%</th>\n",
       "      <td>-109.119221</td>\n",
       "      <td>-87.047226</td>\n",
       "    </tr>\n",
       "    <tr>\n",
       "      <th>75%</th>\n",
       "      <td>-48.441826</td>\n",
       "      <td>-31.131783</td>\n",
       "    </tr>\n",
       "    <tr>\n",
       "      <th>max</th>\n",
       "      <td>-7.847949</td>\n",
       "      <td>-4.734330</td>\n",
       "    </tr>\n",
       "  </tbody>\n",
       "</table>\n",
       "</div>"
      ],
      "text/plain": [
       "                 2             10\n",
       "count  50000.000000  50000.000000\n",
       "mean     -97.403748    -86.067389\n",
       "std       53.150451     55.021237\n",
       "min     -261.561798   -466.337158\n",
       "25%     -142.929443   -136.128292\n",
       "50%     -109.119221    -87.047226\n",
       "75%      -48.441826    -31.131783\n",
       "max       -7.847949     -4.734330"
      ]
     },
     "execution_count": 22,
     "metadata": {},
     "output_type": "execute_result"
    }
   ],
   "source": [
    "logprob.describe()"
   ]
  },
  {
   "cell_type": "code",
   "execution_count": 30,
   "metadata": {},
   "outputs": [
    {
     "data": {
      "text/html": [
       "<div>\n",
       "<style scoped>\n",
       "    .dataframe tbody tr th:only-of-type {\n",
       "        vertical-align: middle;\n",
       "    }\n",
       "\n",
       "    .dataframe tbody tr th {\n",
       "        vertical-align: top;\n",
       "    }\n",
       "\n",
       "    .dataframe thead th {\n",
       "        text-align: right;\n",
       "    }\n",
       "</style>\n",
       "<table border=\"1\" class=\"dataframe\">\n",
       "  <thead>\n",
       "    <tr style=\"text-align: right;\">\n",
       "      <th>hidden dim</th>\n",
       "      <th>2</th>\n",
       "      <th>10</th>\n",
       "    </tr>\n",
       "    <tr>\n",
       "      <th>sequence ID</th>\n",
       "      <th></th>\n",
       "      <th></th>\n",
       "    </tr>\n",
       "  </thead>\n",
       "  <tbody>\n",
       "    <tr>\n",
       "      <th>0</th>\n",
       "      <td>-120.229416</td>\n",
       "      <td>-98.112030</td>\n",
       "    </tr>\n",
       "    <tr>\n",
       "      <th>1</th>\n",
       "      <td>-130.787628</td>\n",
       "      <td>-116.137009</td>\n",
       "    </tr>\n",
       "    <tr>\n",
       "      <th>2</th>\n",
       "      <td>-135.576782</td>\n",
       "      <td>-119.820656</td>\n",
       "    </tr>\n",
       "    <tr>\n",
       "      <th>3</th>\n",
       "      <td>-104.994095</td>\n",
       "      <td>-120.569191</td>\n",
       "    </tr>\n",
       "    <tr>\n",
       "      <th>4</th>\n",
       "      <td>-101.122177</td>\n",
       "      <td>-87.073784</td>\n",
       "    </tr>\n",
       "  </tbody>\n",
       "</table>\n",
       "</div>"
      ],
      "text/plain": [
       "hidden dim           2           10\n",
       "sequence ID                        \n",
       "0           -120.229416  -98.112030\n",
       "1           -130.787628 -116.137009\n",
       "2           -135.576782 -119.820656\n",
       "3           -104.994095 -120.569191\n",
       "4           -101.122177  -87.073784"
      ]
     },
     "execution_count": 30,
     "metadata": {},
     "output_type": "execute_result"
    }
   ],
   "source": [
    "logprob.head()"
   ]
  },
  {
   "cell_type": "code",
   "execution_count": 28,
   "metadata": {},
   "outputs": [],
   "source": [
    "logprob.columns.names = ['hidden dim']\n",
    "logprob.index.names = ['sequence ID']"
   ]
  },
  {
   "cell_type": "markdown",
   "metadata": {},
   "source": [
    "Let us save this hard-earned table:"
   ]
  },
  {
   "cell_type": "code",
   "execution_count": 32,
   "metadata": {},
   "outputs": [
    {
     "data": {
      "image/png": "[encoded data removed]",
      "text/plain": [
       "<Figure size 576x360 with 1 Axes>"
      ]
     },
     "metadata": {
      "image/png": {
       "height": 321,
       "width": 509
      },
      "needs_background": "light"
     },
     "output_type": "display_data"
    }
   ],
   "source": [
    "plt.figure(figsize=(8, 5))\n",
    "\n",
    "logprob.boxplot()\n",
    "\n",
    "plt.xlabel('Dimension of the latent space', fontsize=14)\n",
    "plt.ylabel('Log-probability', fontsize=14)\n",
    "\n",
    "plt.savefig(GRAPHICS_PATH + 'logprob-boxplots.pdf')"
   ]
  },
  {
   "cell_type": "markdown",
   "metadata": {},
   "source": [
    "# Visualization"
   ]
  },
  {
   "cell_type": "code",
   "execution_count": 49,
   "metadata": {
    "ExecuteTime": {
     "end_time": "2018-12-04T17:24:04.367238Z",
     "start_time": "2018-12-04T17:24:04.344758Z"
    }
   },
   "outputs": [],
   "source": [
    "i = -1"
   ]
  },
  {
   "cell_type": "code",
   "execution_count": 66,
   "metadata": {
    "ExecuteTime": {
     "end_time": "2018-12-04T17:24:36.135400Z",
     "start_time": "2018-12-04T17:24:35.219512Z"
    }
   },
   "outputs": [
    {
     "name": "stdout",
     "output_type": "stream",
     "text": [
      "16\n",
      "Accuracy h=10 : 37.80487804878049\n",
      "Accuracy h=2  : 40.24390243902439\n"
     ]
    },
    {
     "data": {
      "image/png": "[encoded data removed]",
      "text/plain": [
       "<Figure size 720x720 with 2 Axes>"
      ]
     },
     "metadata": {
      "image/png": {
       "height": 249,
       "width": 591
      },
      "needs_background": "light"
     },
     "output_type": "display_data"
    },
    {
     "data": {
      "image/png": "[encoded data removed]",
      "text/plain": [
       "<Figure size 720x720 with 2 Axes>"
      ]
     },
     "metadata": {
      "image/png": {
       "height": 249,
       "width": 595
      },
      "needs_background": "light"
     },
     "output_type": "display_data"
    },
    {
     "data": {
      "image/png": "[encoded data removed]",
      "text/plain": [
       "<Figure size 720x720 with 2 Axes>"
      ]
     },
     "metadata": {
      "image/png": {
       "height": 249,
       "width": 591
      },
      "needs_background": "light"
     },
     "output_type": "display_data"
    }
   ],
   "source": [
    "i += 1\n",
    "\n",
    "print(i)\n",
    "\n",
    "prot = visualization.Protein(complete_set[i])\n",
    "recon = visualization.Protein(reconstruction[i])\n",
    "recon2 = visualization.Protein(reconstruction2[i])\n",
    "\n",
    "accuracy = (recon.array.argmax(axis=0) == prot.array.argmax(axis=0)).sum() * 100 / 82\n",
    "accuracy2 = (recon2.array.argmax(axis=0) == prot.array.argmax(axis=0)).sum() * 100 / 82\n",
    "\n",
    "recon.array[prot.array == 0] = 0\n",
    "recon2.array[prot.array == 0] = 0\n",
    "\n",
    "print('Accuracy h=10 : {acc}'.format(acc=accuracy))\n",
    "print('Accuracy h=2  : {acc}'.format(acc=accuracy2))\n",
    "\n",
    "recon.plot_sequence(title='Reconstruction10 (where = 1)')\n",
    "prot.plot_sequence(title='Original')\n",
    "recon2.plot_sequence(title='Reconstruction2 (where = 1)')"
   ]
  },
  {
   "cell_type": "code",
   "execution_count": 30,
   "metadata": {
    "ExecuteTime": {
     "end_time": "2018-12-04T17:21:48.774733Z",
     "start_time": "2018-12-04T17:21:48.746115Z"
    }
   },
   "outputs": [
    {
     "data": {
      "text/plain": [
       "100.0"
      ]
     },
     "execution_count": 30,
     "metadata": {},
     "output_type": "execute_result"
    }
   ],
   "source": [
    "(recon2.array.argmax(axis=0) == prot.array.argmax(axis=0)).sum() * 100 / 82"
   ]
  },
  {
   "cell_type": "code",
   "execution_count": null,
   "metadata": {},
   "outputs": [],
   "source": []
  }
 ],
 "metadata": {
  "kernelspec": {
   "display_name": "Python 3",
   "language": "python",
   "name": "python3"
  },
  "language_info": {
   "codemirror_mode": {
    "name": "ipython",
    "version": 3
   },
   "file_extension": ".py",
   "mimetype": "text/x-python",
   "name": "python",
   "nbconvert_exporter": "python",
   "pygments_lexer": "ipython3",
   "version": "3.7.1"
  },
  "toc": {
   "base_numbering": 1,
   "nav_menu": {},
   "number_sections": true,
   "sideBar": true,
   "skip_h1_title": false,
   "title_cell": "Table of Contents",
   "title_sidebar": "Contents",
   "toc_cell": false,
   "toc_position": {},
   "toc_section_display": true,
   "toc_window_display": false
  }
 },
 "nbformat": 4,
 "nbformat_minor": 2
}

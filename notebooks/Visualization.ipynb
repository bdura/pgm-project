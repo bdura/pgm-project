{
 "cells": [
  {
   "cell_type": "markdown",
   "metadata": {},
   "source": [
    "<div style=\"text-align: center; font-size: 30pt; font-weight: bold; margin: 1em 0em 1em 0em\">Visualization</div>"
   ]
  },
  {
   "cell_type": "code",
   "execution_count": 1,
   "metadata": {
    "ExecuteTime": {
     "end_time": "2018-12-06T01:48:25.098523Z",
     "start_time": "2018-12-06T01:48:25.095275Z"
    }
   },
   "outputs": [],
   "source": [
    "import sys, os"
   ]
  },
  {
   "cell_type": "code",
   "execution_count": 2,
   "metadata": {
    "ExecuteTime": {
     "end_time": "2018-12-06T01:48:25.469628Z",
     "start_time": "2018-12-06T01:48:25.465310Z"
    }
   },
   "outputs": [],
   "source": [
    "sys.path.append(os.path.abspath('../autoencoders'))"
   ]
  },
  {
   "cell_type": "code",
   "execution_count": 3,
   "metadata": {
    "ExecuteTime": {
     "end_time": "2018-12-06T01:48:27.604926Z",
     "start_time": "2018-12-06T01:48:25.825063Z"
    }
   },
   "outputs": [],
   "source": [
    "# \"Magic\" commands for automatic reloading of module, perfect for prototyping\n",
    "%reload_ext autoreload\n",
    "%autoreload 2\n",
    "\n",
    "import wasserstein\n",
    "import proteins\n",
    "import visualization"
   ]
  },
  {
   "cell_type": "code",
   "execution_count": 4,
   "metadata": {
    "ExecuteTime": {
     "end_time": "2018-12-06T01:48:27.633694Z",
     "start_time": "2018-12-06T01:48:27.607084Z"
    }
   },
   "outputs": [],
   "source": [
    "import matplotlib.pyplot as plt"
   ]
  },
  {
   "cell_type": "code",
   "execution_count": 5,
   "metadata": {
    "ExecuteTime": {
     "end_time": "2018-12-06T01:48:27.671857Z",
     "start_time": "2018-12-06T01:48:27.637105Z"
    }
   },
   "outputs": [],
   "source": [
    "# LaTeX rendering in graphs\n",
    "try:\n",
    "    plt.rc('text', usetex=True)\n",
    "except:\n",
    "    pass\n",
    "\n",
    "plt.rc('font', family='serif')\n",
    "\n",
    "# High resolution graphs\n",
    "%config InlineBackend.figure_format = 'retina'"
   ]
  },
  {
   "cell_type": "code",
   "execution_count": 6,
   "metadata": {
    "ExecuteTime": {
     "end_time": "2018-12-06T01:48:28.108846Z",
     "start_time": "2018-12-06T01:48:27.674714Z"
    }
   },
   "outputs": [],
   "source": [
    "import numpy as np\n",
    "import pandas as pd\n",
    "\n",
    "import torch"
   ]
  },
  {
   "cell_type": "code",
   "execution_count": 7,
   "metadata": {
    "ExecuteTime": {
     "end_time": "2018-12-06T01:48:28.929241Z",
     "start_time": "2018-12-06T01:48:28.885187Z"
    }
   },
   "outputs": [],
   "source": [
    "from tqdm import tqdm"
   ]
  },
  {
   "cell_type": "code",
   "execution_count": 8,
   "metadata": {
    "ExecuteTime": {
     "end_time": "2018-12-06T01:48:58.973396Z",
     "start_time": "2018-12-06T01:48:58.257508Z"
    }
   },
   "outputs": [],
   "source": [
    "from scipy.stats import spearmanr"
   ]
  },
  {
   "cell_type": "markdown",
   "metadata": {},
   "source": [
    "# Paths"
   ]
  },
  {
   "cell_type": "code",
   "execution_count": 9,
   "metadata": {
    "ExecuteTime": {
     "end_time": "2018-12-06T01:48:59.835869Z",
     "start_time": "2018-12-06T01:48:59.807488Z"
    }
   },
   "outputs": [],
   "source": [
    "ROOT = '../'"
   ]
  },
  {
   "cell_type": "code",
   "execution_count": 10,
   "metadata": {
    "ExecuteTime": {
     "end_time": "2018-12-06T01:49:00.061211Z",
     "start_time": "2018-12-06T01:49:00.030263Z"
    }
   },
   "outputs": [],
   "source": [
    "MODULE_PATH = ROOT + 'autoencoders/'\n",
    "DATA_PATH = ROOT + 'data/'\n",
    "NOTEBOOK_PATH = ROOT + 'notebooks/'\n",
    "MODELS_PATH = ROOT + 'models/'\n",
    "GRAPHICS_PATH = ROOT + 'graphics/'"
   ]
  },
  {
   "cell_type": "markdown",
   "metadata": {},
   "source": [
    "# Loading the model"
   ]
  },
  {
   "cell_type": "code",
   "execution_count": 16,
   "metadata": {
    "ExecuteTime": {
     "end_time": "2018-12-06T02:19:37.882792Z",
     "start_time": "2018-12-06T02:19:37.789850Z"
    }
   },
   "outputs": [],
   "source": [
    "model = proteins.WassersteinAutoEncoder(ksi=10., hidden_dimension=10)\n",
    "model.load_state_dict(torch.load(MODELS_PATH + 'wae-h=10.weights', map_location='cpu'))"
   ]
  },
  {
   "cell_type": "code",
   "execution_count": 11,
   "metadata": {
    "ExecuteTime": {
     "end_time": "2018-12-05T18:44:28.853259Z",
     "start_time": "2018-12-05T18:44:28.780163Z"
    }
   },
   "outputs": [],
   "source": [
    "model2 = proteins.WassersteinAutoEncoder(ksi=10., hidden_dimension=2)\n",
    "model2.load_state_dict(torch.load(MODELS_PATH + 'wae.weights', map_location='cpu'))"
   ]
  },
  {
   "cell_type": "markdown",
   "metadata": {},
   "source": [
    "# Dataset"
   ]
  },
  {
   "cell_type": "code",
   "execution_count": 12,
   "metadata": {
    "ExecuteTime": {
     "end_time": "2018-12-06T02:18:35.147499Z",
     "start_time": "2018-12-06T02:18:34.067596Z"
    }
   },
   "outputs": [],
   "source": [
    "complete_set = np.load(DATA_PATH + 'pgm-dataset.npy')"
   ]
  },
  {
   "cell_type": "code",
   "execution_count": 40,
   "metadata": {
    "ExecuteTime": {
     "end_time": "2018-12-06T02:28:01.533873Z",
     "start_time": "2018-12-06T02:28:01.497784Z"
    }
   },
   "outputs": [],
   "source": [
    "test_set = np.load(DATA_PATH + 'test-data.npy')\n",
    "test_fitness = np.load(DATA_PATH + 'test-fitness.npy')"
   ]
  },
  {
   "cell_type": "code",
   "execution_count": 14,
   "metadata": {
    "ExecuteTime": {
     "end_time": "2018-12-06T02:18:35.219529Z",
     "start_time": "2018-12-06T02:18:35.191247Z"
    }
   },
   "outputs": [],
   "source": [
    "prot = visualization.Protein(complete_set[0])"
   ]
  },
  {
   "cell_type": "code",
   "execution_count": 14,
   "metadata": {
    "ExecuteTime": {
     "end_time": "2018-12-05T18:44:32.974743Z",
     "start_time": "2018-12-05T18:44:30.422266Z"
    }
   },
   "outputs": [
    {
     "data": {
      "image/png": "[encoded data removed]",
      "text/plain": [
       "<Figure size 720x720 with 2 Axes>"
      ]
     },
     "metadata": {
      "image/png": {
       "height": 249,
       "width": 595
      },
      "needs_background": "light"
     },
     "output_type": "display_data"
    }
   ],
   "source": [
    "prot.plot_sequence(title='Test', save=GRAPHICS_PATH+'test-visualization.pdf')"
   ]
  },
  {
   "cell_type": "markdown",
   "metadata": {},
   "source": [
    "Let us look at the accuracy (number of letters predicted right) and the log-probability of the sequence as output by the network. To that end, we added a `log_softmax()` method in order to use the eponymous stable loss function from `PyTorch`."
   ]
  },
  {
   "cell_type": "code",
   "execution_count": 36,
   "metadata": {
    "ExecuteTime": {
     "end_time": "2018-12-05T18:53:10.042480Z",
     "start_time": "2018-12-05T18:53:01.173556Z"
    }
   },
   "outputs": [],
   "source": [
    "with torch.no_grad():\n",
    "    log_reconstruction = model.log_softmax(torch.Tensor(complete_set))\n",
    "    reconstruction, _ = model.forward(torch.Tensor(complete_set))"
   ]
  },
  {
   "cell_type": "code",
   "execution_count": 37,
   "metadata": {
    "ExecuteTime": {
     "end_time": "2018-12-05T18:53:17.967988Z",
     "start_time": "2018-12-05T18:53:10.044855Z"
    }
   },
   "outputs": [],
   "source": [
    "with torch.no_grad():\n",
    "    log_reconstruction2 = model2.log_softmax(torch.Tensor(complete_set))\n",
    "    reconstruction2, _ = model2.forward(torch.Tensor(complete_set))"
   ]
  },
  {
   "cell_type": "code",
   "execution_count": 38,
   "metadata": {
    "ExecuteTime": {
     "end_time": "2018-12-05T18:53:18.270593Z",
     "start_time": "2018-12-05T18:53:17.969591Z"
    }
   },
   "outputs": [],
   "source": [
    "reconstruction = np.array(reconstruction)\n",
    "log_reconstruction = np.array(log_reconstruction)"
   ]
  },
  {
   "cell_type": "code",
   "execution_count": 39,
   "metadata": {
    "ExecuteTime": {
     "end_time": "2018-12-05T18:53:18.634144Z",
     "start_time": "2018-12-05T18:53:18.272902Z"
    }
   },
   "outputs": [],
   "source": [
    "reconstruction2 = np.array(reconstruction2)\n",
    "log_reconstruction2 = np.array(log_reconstruction2)"
   ]
  },
  {
   "cell_type": "markdown",
   "metadata": {},
   "source": [
    "# Accuracy of the reconstructions"
   ]
  },
  {
   "cell_type": "code",
   "execution_count": 70,
   "metadata": {
    "ExecuteTime": {
     "end_time": "2018-12-05T18:57:45.398882Z",
     "start_time": "2018-12-05T18:57:28.508942Z"
    }
   },
   "outputs": [
    {
     "name": "stderr",
     "output_type": "stream",
     "text": [
      "100%|#######################################################| 50000/50000 [00:16<00:00, 2966.76it/s]\n"
     ]
    }
   ],
   "source": [
    "accuracy = pd.DataFrame(columns=[2, 10], index=np.arange(len(complete_set)), dtype=float)\n",
    "\n",
    "iterator = tqdm(\n",
    "    enumerate(zip(\n",
    "        reconstruction.reshape(-1, 24, 82), \n",
    "        complete_set.reshape(-1, 24, 82), \n",
    "        reconstruction2.reshape(-1, 24, 82)\n",
    "    )), \n",
    "    ascii=True, \n",
    "    ncols=100,\n",
    "    total=len(complete_set)\n",
    ")\n",
    "\n",
    "for i, (r, p, r2) in iterator:\n",
    "    \n",
    "    accuracy.loc[i, 2] = (r2.argmax(axis=0) == p.argmax(axis=0)).mean()\n",
    "    accuracy.loc[i, 10] = (r.argmax(axis=0) == p.argmax(axis=0)).mean()"
   ]
  },
  {
   "cell_type": "code",
   "execution_count": 71,
   "metadata": {
    "ExecuteTime": {
     "end_time": "2018-12-05T18:57:45.445714Z",
     "start_time": "2018-12-05T18:57:45.401516Z"
    }
   },
   "outputs": [
    {
     "data": {
      "text/html": [
       "<div>\n",
       "<style scoped>\n",
       "    .dataframe tbody tr th:only-of-type {\n",
       "        vertical-align: middle;\n",
       "    }\n",
       "\n",
       "    .dataframe tbody tr th {\n",
       "        vertical-align: top;\n",
       "    }\n",
       "\n",
       "    .dataframe thead th {\n",
       "        text-align: right;\n",
       "    }\n",
       "</style>\n",
       "<table border=\"1\" class=\"dataframe\">\n",
       "  <thead>\n",
       "    <tr style=\"text-align: right;\">\n",
       "      <th></th>\n",
       "      <th>2</th>\n",
       "      <th>10</th>\n",
       "    </tr>\n",
       "  </thead>\n",
       "  <tbody>\n",
       "    <tr>\n",
       "      <th>count</th>\n",
       "      <td>50000.000000</td>\n",
       "      <td>50000.000000</td>\n",
       "    </tr>\n",
       "    <tr>\n",
       "      <th>mean</th>\n",
       "      <td>0.622569</td>\n",
       "      <td>0.679700</td>\n",
       "    </tr>\n",
       "    <tr>\n",
       "      <th>std</th>\n",
       "      <td>0.219195</td>\n",
       "      <td>0.221832</td>\n",
       "    </tr>\n",
       "    <tr>\n",
       "      <th>min</th>\n",
       "      <td>0.207317</td>\n",
       "      <td>0.195122</td>\n",
       "    </tr>\n",
       "    <tr>\n",
       "      <th>25%</th>\n",
       "      <td>0.426829</td>\n",
       "      <td>0.463415</td>\n",
       "    </tr>\n",
       "    <tr>\n",
       "      <th>50%</th>\n",
       "      <td>0.597561</td>\n",
       "      <td>0.682927</td>\n",
       "    </tr>\n",
       "    <tr>\n",
       "      <th>75%</th>\n",
       "      <td>0.829268</td>\n",
       "      <td>0.902439</td>\n",
       "    </tr>\n",
       "    <tr>\n",
       "      <th>max</th>\n",
       "      <td>1.000000</td>\n",
       "      <td>1.000000</td>\n",
       "    </tr>\n",
       "  </tbody>\n",
       "</table>\n",
       "</div>"
      ],
      "text/plain": [
       "                 2             10\n",
       "count  50000.000000  50000.000000\n",
       "mean       0.622569      0.679700\n",
       "std        0.219195      0.221832\n",
       "min        0.207317      0.195122\n",
       "25%        0.426829      0.463415\n",
       "50%        0.597561      0.682927\n",
       "75%        0.829268      0.902439\n",
       "max        1.000000      1.000000"
      ]
     },
     "execution_count": 71,
     "metadata": {},
     "output_type": "execute_result"
    }
   ],
   "source": [
    "accuracy.describe()"
   ]
  },
  {
   "cell_type": "code",
   "execution_count": 43,
   "metadata": {
    "ExecuteTime": {
     "end_time": "2018-12-05T18:53:41.685487Z",
     "start_time": "2018-12-05T18:53:41.654810Z"
    }
   },
   "outputs": [],
   "source": [
    "accuracy.columns.names = ['hidden dim']\n",
    "accuracy.index.names = ['sequence ID']"
   ]
  },
  {
   "cell_type": "markdown",
   "metadata": {},
   "source": [
    "Let us save this hard-earned table:"
   ]
  },
  {
   "cell_type": "code",
   "execution_count": 44,
   "metadata": {
    "ExecuteTime": {
     "end_time": "2018-12-05T18:53:42.019763Z",
     "start_time": "2018-12-05T18:53:41.689145Z"
    }
   },
   "outputs": [
    {
     "data": {
      "image/png": "[encoded data removed]",
      "text/plain": [
       "<Figure size 576x360 with 1 Axes>"
      ]
     },
     "metadata": {
      "image/png": {
       "height": 321,
       "width": 499
      },
      "needs_background": "light"
     },
     "output_type": "display_data"
    }
   ],
   "source": [
    "plt.figure(figsize=(8, 5))\n",
    "accuracy.boxplot()\n",
    "\n",
    "plt.xlabel('Dimension of the latent space', fontsize=14)\n",
    "plt.ylabel('Accuracy', fontsize=14)\n",
    "\n",
    "plt.savefig(GRAPHICS_PATH + 'accuracy-boxplots.pdf')"
   ]
  },
  {
   "cell_type": "markdown",
   "metadata": {},
   "source": [
    "# Log-probability of the reconstructions"
   ]
  },
  {
   "cell_type": "code",
   "execution_count": 45,
   "metadata": {
    "ExecuteTime": {
     "end_time": "2018-12-05T18:53:56.174507Z",
     "start_time": "2018-12-05T18:53:42.021429Z"
    }
   },
   "outputs": [
    {
     "name": "stderr",
     "output_type": "stream",
     "text": [
      "100%|#######################################################| 50000/50000 [00:14<00:00, 3541.46it/s]\n"
     ]
    }
   ],
   "source": [
    "logprob = pd.DataFrame(columns=[2, 10], index=np.arange(len(complete_set)), dtype=np.longfloat)\n",
    "\n",
    "iterator = tqdm(\n",
    "    enumerate(zip(\n",
    "        log_reconstruction, \n",
    "        complete_set, \n",
    "        log_reconstruction2\n",
    "    )), \n",
    "    ascii=True, \n",
    "    ncols=100, \n",
    "    total=len(complete_set)\n",
    ")\n",
    "\n",
    "for i, (r, p, r2) in iterator:\n",
    "    \n",
    "    logprob.loc[i, 2] = r2[p == 1].sum()\n",
    "    logprob.loc[i, 10] = r[p == 1].sum()"
   ]
  },
  {
   "cell_type": "code",
   "execution_count": 46,
   "metadata": {
    "ExecuteTime": {
     "end_time": "2018-12-05T18:53:56.228814Z",
     "start_time": "2018-12-05T18:53:56.178259Z"
    }
   },
   "outputs": [
    {
     "data": {
      "text/html": [
       "<div>\n",
       "<style scoped>\n",
       "    .dataframe tbody tr th:only-of-type {\n",
       "        vertical-align: middle;\n",
       "    }\n",
       "\n",
       "    .dataframe tbody tr th {\n",
       "        vertical-align: top;\n",
       "    }\n",
       "\n",
       "    .dataframe thead th {\n",
       "        text-align: right;\n",
       "    }\n",
       "</style>\n",
       "<table border=\"1\" class=\"dataframe\">\n",
       "  <thead>\n",
       "    <tr style=\"text-align: right;\">\n",
       "      <th></th>\n",
       "      <th>2</th>\n",
       "      <th>10</th>\n",
       "    </tr>\n",
       "  </thead>\n",
       "  <tbody>\n",
       "    <tr>\n",
       "      <th>count</th>\n",
       "      <td>50000.000000</td>\n",
       "      <td>50000.000000</td>\n",
       "    </tr>\n",
       "    <tr>\n",
       "      <th>mean</th>\n",
       "      <td>-97.403748</td>\n",
       "      <td>-86.067389</td>\n",
       "    </tr>\n",
       "    <tr>\n",
       "      <th>std</th>\n",
       "      <td>53.150451</td>\n",
       "      <td>55.021237</td>\n",
       "    </tr>\n",
       "    <tr>\n",
       "      <th>min</th>\n",
       "      <td>-261.561798</td>\n",
       "      <td>-466.337158</td>\n",
       "    </tr>\n",
       "    <tr>\n",
       "      <th>25%</th>\n",
       "      <td>-142.929443</td>\n",
       "      <td>-136.128292</td>\n",
       "    </tr>\n",
       "    <tr>\n",
       "      <th>50%</th>\n",
       "      <td>-109.119221</td>\n",
       "      <td>-87.047226</td>\n",
       "    </tr>\n",
       "    <tr>\n",
       "      <th>75%</th>\n",
       "      <td>-48.441826</td>\n",
       "      <td>-31.131783</td>\n",
       "    </tr>\n",
       "    <tr>\n",
       "      <th>max</th>\n",
       "      <td>-7.847949</td>\n",
       "      <td>-4.734330</td>\n",
       "    </tr>\n",
       "  </tbody>\n",
       "</table>\n",
       "</div>"
      ],
      "text/plain": [
       "                 2             10\n",
       "count  50000.000000  50000.000000\n",
       "mean     -97.403748    -86.067389\n",
       "std       53.150451     55.021237\n",
       "min     -261.561798   -466.337158\n",
       "25%     -142.929443   -136.128292\n",
       "50%     -109.119221    -87.047226\n",
       "75%      -48.441826    -31.131783\n",
       "max       -7.847949     -4.734330"
      ]
     },
     "execution_count": 46,
     "metadata": {},
     "output_type": "execute_result"
    }
   ],
   "source": [
    "logprob.describe()"
   ]
  },
  {
   "cell_type": "code",
   "execution_count": 47,
   "metadata": {
    "ExecuteTime": {
     "end_time": "2018-12-05T18:53:56.261187Z",
     "start_time": "2018-12-05T18:53:56.231451Z"
    }
   },
   "outputs": [
    {
     "data": {
      "text/html": [
       "<div>\n",
       "<style scoped>\n",
       "    .dataframe tbody tr th:only-of-type {\n",
       "        vertical-align: middle;\n",
       "    }\n",
       "\n",
       "    .dataframe tbody tr th {\n",
       "        vertical-align: top;\n",
       "    }\n",
       "\n",
       "    .dataframe thead th {\n",
       "        text-align: right;\n",
       "    }\n",
       "</style>\n",
       "<table border=\"1\" class=\"dataframe\">\n",
       "  <thead>\n",
       "    <tr style=\"text-align: right;\">\n",
       "      <th></th>\n",
       "      <th>2</th>\n",
       "      <th>10</th>\n",
       "    </tr>\n",
       "  </thead>\n",
       "  <tbody>\n",
       "    <tr>\n",
       "      <th>0</th>\n",
       "      <td>-120.229416</td>\n",
       "      <td>-98.112030</td>\n",
       "    </tr>\n",
       "    <tr>\n",
       "      <th>1</th>\n",
       "      <td>-130.787628</td>\n",
       "      <td>-116.137009</td>\n",
       "    </tr>\n",
       "    <tr>\n",
       "      <th>2</th>\n",
       "      <td>-135.576782</td>\n",
       "      <td>-119.820656</td>\n",
       "    </tr>\n",
       "    <tr>\n",
       "      <th>3</th>\n",
       "      <td>-104.994095</td>\n",
       "      <td>-120.569191</td>\n",
       "    </tr>\n",
       "    <tr>\n",
       "      <th>4</th>\n",
       "      <td>-101.122177</td>\n",
       "      <td>-87.073784</td>\n",
       "    </tr>\n",
       "  </tbody>\n",
       "</table>\n",
       "</div>"
      ],
      "text/plain": [
       "           2           10\n",
       "0 -120.229416  -98.112030\n",
       "1 -130.787628 -116.137009\n",
       "2 -135.576782 -119.820656\n",
       "3 -104.994095 -120.569191\n",
       "4 -101.122177  -87.073784"
      ]
     },
     "execution_count": 47,
     "metadata": {},
     "output_type": "execute_result"
    }
   ],
   "source": [
    "logprob.head()"
   ]
  },
  {
   "cell_type": "code",
   "execution_count": 48,
   "metadata": {
    "ExecuteTime": {
     "end_time": "2018-12-05T18:53:56.295694Z",
     "start_time": "2018-12-05T18:53:56.264523Z"
    }
   },
   "outputs": [],
   "source": [
    "logprob.columns.names = ['hidden dim']\n",
    "logprob.index.names = ['sequence ID']"
   ]
  },
  {
   "cell_type": "markdown",
   "metadata": {},
   "source": [
    "Let us save this hard-earned table:"
   ]
  },
  {
   "cell_type": "code",
   "execution_count": 49,
   "metadata": {
    "ExecuteTime": {
     "end_time": "2018-12-05T18:53:56.622808Z",
     "start_time": "2018-12-05T18:53:56.299350Z"
    }
   },
   "outputs": [
    {
     "data": {
      "image/png": "[encoded data removed]",
      "text/plain": [
       "<Figure size 576x360 with 1 Axes>"
      ]
     },
     "metadata": {
      "image/png": {
       "height": 321,
       "width": 509
      },
      "needs_background": "light"
     },
     "output_type": "display_data"
    }
   ],
   "source": [
    "plt.figure(figsize=(8, 5))\n",
    "\n",
    "logprob.boxplot()\n",
    "\n",
    "plt.xlabel('Dimension of the latent space', fontsize=14)\n",
    "plt.ylabel('Log-probability', fontsize=14)\n",
    "\n",
    "plt.savefig(GRAPHICS_PATH + 'logprob-boxplots.pdf')"
   ]
  },
  {
   "cell_type": "markdown",
   "metadata": {},
   "source": [
    "# Visualization"
   ]
  },
  {
   "cell_type": "code",
   "execution_count": 73,
   "metadata": {
    "ExecuteTime": {
     "end_time": "2018-12-05T18:58:09.085769Z",
     "start_time": "2018-12-05T18:58:09.058868Z"
    }
   },
   "outputs": [],
   "source": [
    "i = 27"
   ]
  },
  {
   "cell_type": "code",
   "execution_count": 74,
   "metadata": {
    "ExecuteTime": {
     "end_time": "2018-12-05T18:58:14.864123Z",
     "start_time": "2018-12-05T18:58:13.766021Z"
    }
   },
   "outputs": [
    {
     "name": "stdout",
     "output_type": "stream",
     "text": [
      "27\n",
      "Accuracy h=10 : 98.78048780487805\n"
     ]
    },
    {
     "data": {
      "image/png": "[encoded data removed]",
      "text/plain": [
       "<Figure size 720x720 with 2 Axes>"
      ]
     },
     "metadata": {
      "image/png": {
       "height": 249,
       "width": 595
      },
      "needs_background": "light"
     },
     "output_type": "display_data"
    },
    {
     "data": {
      "image/png": "[encoded data removed]",
      "text/plain": [
       "<Figure size 720x720 with 2 Axes>"
      ]
     },
     "metadata": {
      "image/png": {
       "height": 250,
       "width": 591
      },
      "needs_background": "light"
     },
     "output_type": "display_data"
    }
   ],
   "source": [
    "print(i)\n",
    "\n",
    "prot = visualization.Protein(complete_set[i])\n",
    "recon = visualization.Protein(reconstruction[i])\n",
    "\n",
    "acc = (recon.array.argmax(axis=0) == prot.array.argmax(axis=0)).mean() * 100\n",
    "\n",
    "print('Accuracy h=10 : {acc}'.format(acc=acc))\n",
    "\n",
    "prot.plot_sequence(title='Original', save=GRAPHICS_PATH+'original.pdf')\n",
    "recon.plot_sequence(title='Reconstruction ($d_h = 10$)', save=GRAPHICS_PATH+'reconstruction.pdf')"
   ]
  },
  {
   "cell_type": "markdown",
   "metadata": {},
   "source": [
    "# Spearman correlation"
   ]
  },
  {
   "cell_type": "code",
   "execution_count": 41,
   "metadata": {
    "ExecuteTime": {
     "end_time": "2018-12-06T02:28:07.104817Z",
     "start_time": "2018-12-06T02:28:06.961641Z"
    }
   },
   "outputs": [],
   "source": [
    "with torch.no_grad():\n",
    "    test_log_reconstruction = np.array(model.log_softmax(torch.Tensor(test_set)))"
   ]
  },
  {
   "cell_type": "code",
   "execution_count": 42,
   "metadata": {
    "ExecuteTime": {
     "end_time": "2018-12-06T02:28:07.588191Z",
     "start_time": "2018-12-06T02:28:07.543719Z"
    }
   },
   "outputs": [],
   "source": [
    "test_logprob = np.array([r[t == 1].sum() for r, t in zip(test_log_reconstruction, test_set)])"
   ]
  },
  {
   "cell_type": "code",
   "execution_count": 43,
   "metadata": {
    "ExecuteTime": {
     "end_time": "2018-12-06T02:28:08.087581Z",
     "start_time": "2018-12-06T02:28:08.057833Z"
    }
   },
   "outputs": [
    {
     "data": {
      "text/plain": [
       "array([ -98.11203, -101.95644, -110.55022, ..., -101.14288,  -94.89933,\n",
       "        -99.35787], dtype=float32)"
      ]
     },
     "execution_count": 43,
     "metadata": {},
     "output_type": "execute_result"
    }
   ],
   "source": [
    "test_logprob"
   ]
  },
  {
   "cell_type": "code",
   "execution_count": 45,
   "metadata": {
    "ExecuteTime": {
     "end_time": "2018-12-06T02:28:17.296264Z",
     "start_time": "2018-12-06T02:28:16.986765Z"
    }
   },
   "outputs": [
    {
     "data": {
      "text/plain": [
       "<matplotlib.collections.PathCollection at 0x154932128>"
      ]
     },
     "execution_count": 45,
     "metadata": {},
     "output_type": "execute_result"
    },
    {
     "data": {
      "image/png": "[encoded data removed]",
      "text/plain": [
       "<Figure size 720x576 with 1 Axes>"
      ]
     },
     "metadata": {
      "image/png": {
       "height": 467,
       "width": 594
      },
      "needs_background": "light"
     },
     "output_type": "display_data"
    }
   ],
   "source": [
    "plt.figure(figsize=(10, 8))\n",
    "\n",
    "plt.scatter(test_logprob, test_fitness)"
   ]
  },
  {
   "cell_type": "code",
   "execution_count": 46,
   "metadata": {
    "ExecuteTime": {
     "end_time": "2018-12-06T02:29:10.711102Z",
     "start_time": "2018-12-06T02:29:10.671520Z"
    }
   },
   "outputs": [
    {
     "data": {
      "text/plain": [
       "SpearmanrResult(correlation=0.31127998811268554, pvalue=4.39883508098587e-28)"
      ]
     },
     "execution_count": 46,
     "metadata": {},
     "output_type": "execute_result"
    }
   ],
   "source": [
    "spearmanr(test_logprob, test_fitness)"
   ]
  },
  {
   "cell_type": "code",
   "execution_count": null,
   "metadata": {},
   "outputs": [],
   "source": []
  }
 ],
 "metadata": {
  "kernelspec": {
   "display_name": "Python 3",
   "language": "python",
   "name": "python3"
  },
  "language_info": {
   "codemirror_mode": {
    "name": "ipython",
    "version": 3
   },
   "file_extension": ".py",
   "mimetype": "text/x-python",
   "name": "python",
   "nbconvert_exporter": "python",
   "pygments_lexer": "ipython3",
   "version": "3.7.0"
  },
  "toc": {
   "base_numbering": 1,
   "nav_menu": {},
   "number_sections": true,
   "sideBar": true,
   "skip_h1_title": false,
   "title_cell": "Table of Contents",
   "title_sidebar": "Contents",
   "toc_cell": false,
   "toc_position": {},
   "toc_section_display": true,
   "toc_window_display": false
  }
 },
 "nbformat": 4,
 "nbformat_minor": 2
}

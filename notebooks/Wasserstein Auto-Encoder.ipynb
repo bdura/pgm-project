{
 "cells": [
  {
   "cell_type": "markdown",
   "metadata": {},
   "source": [
    "<div style=\"text-align: center; font-size: 30pt; font-weight: bold; margin: 1em 0em 1em 0em\">Wasserstein Auto-Encoders</div>"
   ]
  },
  {
   "cell_type": "code",
   "execution_count": 5,
   "metadata": {
    "ExecuteTime": {
     "end_time": "2018-11-21T21:13:15.282831Z",
     "start_time": "2018-11-21T21:13:15.239956Z"
    }
   },
   "outputs": [],
   "source": [
    "import sys\n",
    "import os"
   ]
  },
  {
   "cell_type": "code",
   "execution_count": 6,
   "metadata": {
    "ExecuteTime": {
     "end_time": "2018-11-21T21:13:15.444625Z",
     "start_time": "2018-11-21T21:13:15.396987Z"
    }
   },
   "outputs": [],
   "source": [
    "sys.path.append(os.path.abspath('../autoencoders'))"
   ]
  },
  {
   "cell_type": "code",
   "execution_count": 7,
   "metadata": {
    "ExecuteTime": {
     "end_time": "2018-11-21T21:13:15.605053Z",
     "start_time": "2018-11-21T21:13:15.542287Z"
    }
   },
   "outputs": [],
   "source": [
    "# \"Magic\" commands for automatic reloading of module, perfect for prototyping\n",
    "%reload_ext autoreload\n",
    "%autoreload 2\n",
    "\n",
    "import wasserstein"
   ]
  },
  {
   "cell_type": "code",
   "execution_count": 58,
   "metadata": {
    "ExecuteTime": {
     "end_time": "2018-11-21T23:14:54.434150Z",
     "start_time": "2018-11-21T23:14:54.366339Z"
    }
   },
   "outputs": [],
   "source": [
    "import numpy as np"
   ]
  },
  {
   "cell_type": "code",
   "execution_count": 59,
   "metadata": {
    "ExecuteTime": {
     "end_time": "2018-11-21T23:14:57.428262Z",
     "start_time": "2018-11-21T23:14:57.363875Z"
    }
   },
   "outputs": [],
   "source": [
    "import torch\n",
    "from torch.utils.data import Dataset, DataLoader\n",
    "from torchvision import transforms, utils, datasets"
   ]
  },
  {
   "cell_type": "markdown",
   "metadata": {},
   "source": [
    "# The dataset"
   ]
  },
  {
   "cell_type": "code",
   "execution_count": 12,
   "metadata": {
    "ExecuteTime": {
     "end_time": "2018-11-21T21:16:29.452807Z",
     "start_time": "2018-11-21T21:16:29.263674Z"
    }
   },
   "outputs": [
    {
     "name": "stdout",
     "output_type": "stream",
     "text": [
      ">> total trainning batch number: 600\n",
      ">> total testing batch number: 100\n"
     ]
    }
   ],
   "source": [
    "root = '../data'\n",
    "    \n",
    "trans = transforms.Compose([\n",
    "    # transforms.ToTensor(), \n",
    "    # transforms.ToPILImage(),\n",
    "    # transforms.Resize((8, 8)),\n",
    "    transforms.ToTensor()\n",
    "    # transforms.Normalize((0.5,), (1.0,))\n",
    "])\n",
    "\n",
    "# if not exist, download mnist dataset\n",
    "train_set = datasets.MNIST(root=root, train=True, transform=trans, download=True)\n",
    "test_set = datasets.MNIST(root=root, train=False, transform=trans, download=True)\n",
    "\n",
    "batch_size = 100\n",
    "\n",
    "train_loader = torch.utils.data.DataLoader(\n",
    "                 dataset=train_set,\n",
    "                 batch_size=batch_size,\n",
    "                 shuffle=True)\n",
    "test_loader = torch.utils.data.DataLoader(\n",
    "                dataset=test_set,\n",
    "                batch_size=batch_size,\n",
    "                shuffle=False)\n",
    "\n",
    "print('>> total trainning batch number: {}'.format(len(train_loader)))\n",
    "print('>> total testing batch number: {}'.format(len(test_loader)))"
   ]
  },
  {
   "cell_type": "code",
   "execution_count": null,
   "metadata": {},
   "outputs": [],
   "source": []
  },
  {
   "cell_type": "code",
   "execution_count": 14,
   "metadata": {
    "ExecuteTime": {
     "end_time": "2018-11-21T21:19:18.507025Z",
     "start_time": "2018-11-21T21:19:15.372554Z"
    }
   },
   "outputs": [],
   "source": [
    "data = [d for d, _ in train_loader][0]"
   ]
  },
  {
   "cell_type": "code",
   "execution_count": 16,
   "metadata": {
    "ExecuteTime": {
     "end_time": "2018-11-21T21:19:33.437137Z",
     "start_time": "2018-11-21T21:19:33.367567Z"
    }
   },
   "outputs": [
    {
     "data": {
      "text/plain": [
       "torch.Size([100, 1, 28, 28])"
      ]
     },
     "execution_count": 16,
     "metadata": {},
     "output_type": "execute_result"
    }
   ],
   "source": [
    "data.size()"
   ]
  },
  {
   "cell_type": "markdown",
   "metadata": {},
   "source": [
    "# Wasserstein Auto-Encoder"
   ]
  },
  {
   "cell_type": "code",
   "execution_count": 10,
   "metadata": {
    "ExecuteTime": {
     "end_time": "2018-11-21T21:13:59.148813Z",
     "start_time": "2018-11-21T21:13:59.085940Z"
    }
   },
   "outputs": [],
   "source": [
    "wae = wasserstein.WassersteinAutoEncoder(ksi=10)"
   ]
  },
  {
   "cell_type": "code",
   "execution_count": 49,
   "metadata": {
    "ExecuteTime": {
     "end_time": "2018-11-21T23:00:16.633459Z",
     "start_time": "2018-11-21T23:00:16.549788Z"
    }
   },
   "outputs": [],
   "source": [
    "%psource wasserstein.WassersteinAutoEncoder"
   ]
  },
  {
   "cell_type": "code",
   "execution_count": 9,
   "metadata": {
    "ExecuteTime": {
     "end_time": "2018-11-21T21:13:43.971225Z",
     "start_time": "2018-11-21T21:13:43.911639Z"
    }
   },
   "outputs": [
    {
     "name": "stdout",
     "output_type": "stream",
     "text": [
      "WassersteinAutoEncoder(\n",
      "  (fc1): Linear(in_features=784, out_features=128, bias=True)\n",
      "  (fc2): Linear(in_features=128, out_features=50, bias=True)\n",
      "  (fc3): Linear(in_features=50, out_features=12, bias=True)\n",
      "  (fc4): Linear(in_features=12, out_features=2, bias=True)\n",
      "  (fc5): Linear(in_features=2, out_features=12, bias=True)\n",
      "  (fc6): Linear(in_features=12, out_features=50, bias=True)\n",
      "  (fc7): Linear(in_features=50, out_features=128, bias=True)\n",
      "  (fc8): Linear(in_features=128, out_features=784, bias=True)\n",
      ")\n"
     ]
    }
   ],
   "source": [
    "print(wae)"
   ]
  },
  {
   "cell_type": "markdown",
   "metadata": {},
   "source": [
    "# Training procedure"
   ]
  },
  {
   "cell_type": "markdown",
   "metadata": {},
   "source": [
    "## TensorBoard"
   ]
  },
  {
   "cell_type": "markdown",
   "metadata": {},
   "source": [
    "First, we create a `SummaryWriter` instance (in order to use tensorboard):"
   ]
  },
  {
   "cell_type": "code",
   "execution_count": 78,
   "metadata": {
    "ExecuteTime": {
     "end_time": "2018-11-22T00:36:15.486286Z",
     "start_time": "2018-11-22T00:36:15.368277Z"
    }
   },
   "outputs": [],
   "source": [
    "from tensorboardX import SummaryWriter\n",
    "writer = SummaryWriter('wae/experience1')"
   ]
  },
  {
   "cell_type": "markdown",
   "metadata": {},
   "source": [
    "In order to visualize the graph, we call next cell:"
   ]
  },
  {
   "cell_type": "code",
   "execution_count": 79,
   "metadata": {
    "ExecuteTime": {
     "end_time": "2018-11-22T00:36:18.075115Z",
     "start_time": "2018-11-22T00:36:17.988585Z"
    }
   },
   "outputs": [],
   "source": [
    "dummy_input = torch.autograd.Variable(torch.rand(1, 1, 28, 28))\n",
    "writer.add_graph(wae, dummy_input)"
   ]
  },
  {
   "cell_type": "markdown",
   "metadata": {},
   "source": [
    "## Training and testing"
   ]
  },
  {
   "cell_type": "markdown",
   "metadata": {},
   "source": [
    "We define the device used during the gradient descent:"
   ]
  },
  {
   "cell_type": "code",
   "execution_count": 63,
   "metadata": {
    "ExecuteTime": {
     "end_time": "2018-11-21T23:17:45.627651Z",
     "start_time": "2018-11-21T23:17:45.555322Z"
    }
   },
   "outputs": [],
   "source": [
    "if torch.cuda.is_available():\n",
    "    device = torch.device('cuda')\n",
    "else:\n",
    "    device = torch.device('cpu')"
   ]
  },
  {
   "cell_type": "markdown",
   "metadata": {},
   "source": [
    "We define the learning rate:"
   ]
  },
  {
   "cell_type": "code",
   "execution_count": 64,
   "metadata": {
    "ExecuteTime": {
     "end_time": "2018-11-21T23:17:48.068679Z",
     "start_time": "2018-11-21T23:17:48.008878Z"
    }
   },
   "outputs": [],
   "source": [
    "learning_rate = 1e-3"
   ]
  },
  {
   "cell_type": "markdown",
   "metadata": {},
   "source": [
    "And the optimizer:"
   ]
  },
  {
   "cell_type": "code",
   "execution_count": 65,
   "metadata": {
    "ExecuteTime": {
     "end_time": "2018-11-21T23:17:48.430144Z",
     "start_time": "2018-11-21T23:17:48.360400Z"
    }
   },
   "outputs": [],
   "source": [
    "optimizer = torch.optim.Adam(wae.parameters(), lr=learning_rate, weight_decay=1e-5)"
   ]
  },
  {
   "cell_type": "markdown",
   "metadata": {},
   "source": [
    "The `train()` method is defined as:"
   ]
  },
  {
   "cell_type": "code",
   "execution_count": 70,
   "metadata": {
    "ExecuteTime": {
     "end_time": "2018-11-21T23:18:13.888423Z",
     "start_time": "2018-11-21T23:18:13.808148Z"
    }
   },
   "outputs": [],
   "source": [
    "def train(epoch):\n",
    "    \n",
    "    wae.train()\n",
    "    train_loss = 0\n",
    "    \n",
    "    for batch_idx, (data, _) in enumerate(train_loader):\n",
    "        \n",
    "        # We move the mini-batch to the device (useful is using a GPU)\n",
    "        data = data.to(device)\n",
    "        \n",
    "        # We initialize the gradients\n",
    "        optimizer.zero_grad()\n",
    "        \n",
    "        # We compute the recontruction of x (x_tilde) and its encoding (z)\n",
    "        x_tilde, z = wae(data)\n",
    "        \n",
    "        # We compute the loss\n",
    "        loss = wae.loss(x_tilde=x_tilde, x=data, z=z)\n",
    "        \n",
    "        # Backpropagation\n",
    "        loss.backward()\n",
    "        \n",
    "        # Updating the loss\n",
    "        train_loss += loss.item()\n",
    "        \n",
    "        # Updating the parameters\n",
    "        optimizer.step()\n",
    "\n",
    "    print('>> Epoch: {} Average loss: {:.4f}'.format(epoch, train_loss / len(train_loader.dataset)))\n",
    "    \n",
    "    writer.add_scalar('data/train-loss', train_loss / len(train_loader.dataset), epoch)"
   ]
  },
  {
   "cell_type": "markdown",
   "metadata": {},
   "source": [
    "The `test()` method is defined as:"
   ]
  },
  {
   "cell_type": "code",
   "execution_count": 74,
   "metadata": {
    "ExecuteTime": {
     "end_time": "2018-11-21T23:19:10.712757Z",
     "start_time": "2018-11-21T23:19:10.636328Z"
    }
   },
   "outputs": [],
   "source": [
    "def test(epoch):\n",
    "    \n",
    "    wae.eval()\n",
    "    test_loss = 0\n",
    "    \n",
    "    # We do not compute gradients during the testing phase, hence the no_grad() environment\n",
    "    with torch.no_grad():\n",
    "        \n",
    "        for i, (data, _) in enumerate(test_loader):\n",
    "            \n",
    "            data = data.to(device)\n",
    "            x_tilde, z = wae(data)\n",
    "            \n",
    "            test_loss += wae.loss(x_tilde=x_tilde, x=data, z=z).item()\n",
    "            \n",
    "            if i == 0:\n",
    "                n = min(data.size(0), 8)\n",
    "                comparison = torch.cat([data[:n], x_tilde.view(100, 1, 28, 28)[:n]])\n",
    "                \n",
    "                writer.add_image('reconstruction', comparison.cpu(), epoch)\n",
    "\n",
    "    test_loss /= len(test_loader.dataset)\n",
    "    print('>> Test set loss: {:.4f}'.format(test_loss))\n",
    "    \n",
    "    writer.add_scalar('data/test-loss', test_loss, epoch)"
   ]
  },
  {
   "cell_type": "markdown",
   "metadata": {},
   "source": [
    "## Sampling space"
   ]
  },
  {
   "cell_type": "markdown",
   "metadata": {},
   "source": [
    "We want to sample from the latent space."
   ]
  },
  {
   "cell_type": "code",
   "execution_count": 75,
   "metadata": {
    "ExecuteTime": {
     "end_time": "2018-11-21T23:19:11.804516Z",
     "start_time": "2018-11-21T23:19:11.736209Z"
    }
   },
   "outputs": [],
   "source": [
    "space = np.array(\n",
    "    [\n",
    "        [x, y] \n",
    "        for y in np.linspace(-1.5, 1.5, 16) \n",
    "        for x in np.linspace(-1.5, 1.5, 16)\n",
    "    ], \n",
    "    dtype=np.float\n",
    ")\n",
    "\n",
    "space = torch.from_numpy(space).type(torch.FloatTensor)"
   ]
  },
  {
   "cell_type": "markdown",
   "metadata": {},
   "source": [
    "# Training"
   ]
  },
  {
   "cell_type": "code",
   "execution_count": 80,
   "metadata": {
    "ExecuteTime": {
     "end_time": "2018-11-22T00:48:12.561624Z",
     "start_time": "2018-11-22T00:36:37.584833Z"
    }
   },
   "outputs": [
    {
     "name": "stdout",
     "output_type": "stream",
     "text": [
      ">> Epoch: 100 Average loss: 0.0018\n",
      ">> Test set loss: 0.0026\n",
      ">> Epoch: 101 Average loss: 0.0018\n",
      ">> Test set loss: 0.0025\n",
      ">> Epoch: 102 Average loss: 0.0018\n",
      ">> Test set loss: 0.0026\n",
      ">> Epoch: 103 Average loss: 0.0018\n",
      ">> Test set loss: 0.0026\n",
      ">> Epoch: 104 Average loss: 0.0018\n",
      ">> Test set loss: 0.0026\n",
      ">> Epoch: 105 Average loss: 0.0018\n",
      ">> Test set loss: 0.0026\n",
      ">> Epoch: 106 Average loss: 0.0018\n",
      ">> Test set loss: 0.0027\n",
      ">> Epoch: 107 Average loss: 0.0018\n",
      ">> Test set loss: 0.0026\n",
      ">> Epoch: 108 Average loss: 0.0018\n",
      ">> Test set loss: 0.0025\n",
      ">> Epoch: 109 Average loss: 0.0018\n",
      ">> Test set loss: 0.0025\n",
      ">> Epoch: 110 Average loss: 0.0018\n",
      ">> Test set loss: 0.0027\n",
      ">> Epoch: 111 Average loss: 0.0018\n",
      ">> Test set loss: 0.0025\n",
      ">> Epoch: 112 Average loss: 0.0018\n",
      ">> Test set loss: 0.0027\n",
      ">> Epoch: 113 Average loss: 0.0017\n",
      ">> Test set loss: 0.0026\n",
      ">> Epoch: 114 Average loss: 0.0018\n",
      ">> Test set loss: 0.0027\n",
      ">> Epoch: 115 Average loss: 0.0018\n",
      ">> Test set loss: 0.0026\n",
      ">> Epoch: 116 Average loss: 0.0018\n",
      ">> Test set loss: 0.0027\n",
      ">> Epoch: 117 Average loss: 0.0018\n",
      ">> Test set loss: 0.0027\n",
      ">> Epoch: 118 Average loss: 0.0018\n",
      ">> Test set loss: 0.0026\n",
      ">> Epoch: 119 Average loss: 0.0018\n",
      ">> Test set loss: 0.0025\n",
      ">> Epoch: 120 Average loss: 0.0018\n",
      ">> Test set loss: 0.0027\n",
      ">> Epoch: 121 Average loss: 0.0018\n",
      ">> Test set loss: 0.0027\n",
      ">> Epoch: 122 Average loss: 0.0018\n",
      ">> Test set loss: 0.0027\n",
      ">> Epoch: 123 Average loss: 0.0018\n",
      ">> Test set loss: 0.0026\n",
      ">> Epoch: 124 Average loss: 0.0018\n",
      ">> Test set loss: 0.0029\n",
      ">> Epoch: 125 Average loss: 0.0018\n",
      ">> Test set loss: 0.0026\n"
     ]
    },
    {
     "ename": "KeyboardInterrupt",
     "evalue": "",
     "output_type": "error",
     "traceback": [
      "\u001b[0;31m---------------------------------------------------------------------------\u001b[0m",
      "\u001b[0;31mKeyboardInterrupt\u001b[0m                         Traceback (most recent call last)",
      "\u001b[0;32m<ipython-input-80-fe1d6e9fc375>\u001b[0m in \u001b[0;36m<module>\u001b[0;34m\u001b[0m\n\u001b[1;32m      1\u001b[0m \u001b[0;32mfor\u001b[0m \u001b[0mepoch\u001b[0m \u001b[0;32min\u001b[0m \u001b[0mrange\u001b[0m\u001b[0;34m(\u001b[0m\u001b[0;36m100\u001b[0m\u001b[0;34m,\u001b[0m \u001b[0;36m200\u001b[0m\u001b[0;34m)\u001b[0m\u001b[0;34m:\u001b[0m\u001b[0;34m\u001b[0m\u001b[0;34m\u001b[0m\u001b[0m\n\u001b[1;32m      2\u001b[0m \u001b[0;34m\u001b[0m\u001b[0m\n\u001b[0;32m----> 3\u001b[0;31m     \u001b[0mtrain\u001b[0m\u001b[0;34m(\u001b[0m\u001b[0mepoch\u001b[0m\u001b[0;34m)\u001b[0m\u001b[0;34m\u001b[0m\u001b[0;34m\u001b[0m\u001b[0m\n\u001b[0m\u001b[1;32m      4\u001b[0m     \u001b[0mtest\u001b[0m\u001b[0;34m(\u001b[0m\u001b[0mepoch\u001b[0m\u001b[0;34m)\u001b[0m\u001b[0;34m\u001b[0m\u001b[0;34m\u001b[0m\u001b[0m\n\u001b[1;32m      5\u001b[0m \u001b[0;34m\u001b[0m\u001b[0m\n",
      "\u001b[0;32m<ipython-input-70-f1134a075660>\u001b[0m in \u001b[0;36mtrain\u001b[0;34m(epoch)\u001b[0m\n\u001b[1;32m     19\u001b[0m \u001b[0;34m\u001b[0m\u001b[0m\n\u001b[1;32m     20\u001b[0m         \u001b[0;31m# Backpropagation\u001b[0m\u001b[0;34m\u001b[0m\u001b[0;34m\u001b[0m\u001b[0;34m\u001b[0m\u001b[0m\n\u001b[0;32m---> 21\u001b[0;31m         \u001b[0mloss\u001b[0m\u001b[0;34m.\u001b[0m\u001b[0mbackward\u001b[0m\u001b[0;34m(\u001b[0m\u001b[0;34m)\u001b[0m\u001b[0;34m\u001b[0m\u001b[0;34m\u001b[0m\u001b[0m\n\u001b[0m\u001b[1;32m     22\u001b[0m \u001b[0;34m\u001b[0m\u001b[0m\n\u001b[1;32m     23\u001b[0m         \u001b[0;31m# Updating the loss\u001b[0m\u001b[0;34m\u001b[0m\u001b[0;34m\u001b[0m\u001b[0;34m\u001b[0m\u001b[0m\n",
      "\u001b[0;32m~/miniconda3/envs/pytorch/lib/python3.7/site-packages/torch/tensor.py\u001b[0m in \u001b[0;36mbackward\u001b[0;34m(self, gradient, retain_graph, create_graph)\u001b[0m\n\u001b[1;32m     91\u001b[0m                 \u001b[0mproducts\u001b[0m\u001b[0;34m.\u001b[0m \u001b[0mDefaults\u001b[0m \u001b[0mto\u001b[0m\u001b[0;31m \u001b[0m\u001b[0;31m`\u001b[0m\u001b[0;31m`\u001b[0m\u001b[0;32mFalse\u001b[0m\u001b[0;31m`\u001b[0m\u001b[0;31m`\u001b[0m\u001b[0;34m.\u001b[0m\u001b[0;34m\u001b[0m\u001b[0;34m\u001b[0m\u001b[0m\n\u001b[1;32m     92\u001b[0m         \"\"\"\n\u001b[0;32m---> 93\u001b[0;31m         \u001b[0mtorch\u001b[0m\u001b[0;34m.\u001b[0m\u001b[0mautograd\u001b[0m\u001b[0;34m.\u001b[0m\u001b[0mbackward\u001b[0m\u001b[0;34m(\u001b[0m\u001b[0mself\u001b[0m\u001b[0;34m,\u001b[0m \u001b[0mgradient\u001b[0m\u001b[0;34m,\u001b[0m \u001b[0mretain_graph\u001b[0m\u001b[0;34m,\u001b[0m \u001b[0mcreate_graph\u001b[0m\u001b[0;34m)\u001b[0m\u001b[0;34m\u001b[0m\u001b[0;34m\u001b[0m\u001b[0m\n\u001b[0m\u001b[1;32m     94\u001b[0m \u001b[0;34m\u001b[0m\u001b[0m\n\u001b[1;32m     95\u001b[0m     \u001b[0;32mdef\u001b[0m \u001b[0mregister_hook\u001b[0m\u001b[0;34m(\u001b[0m\u001b[0mself\u001b[0m\u001b[0;34m,\u001b[0m \u001b[0mhook\u001b[0m\u001b[0;34m)\u001b[0m\u001b[0;34m:\u001b[0m\u001b[0;34m\u001b[0m\u001b[0;34m\u001b[0m\u001b[0m\n",
      "\u001b[0;32m~/miniconda3/envs/pytorch/lib/python3.7/site-packages/torch/autograd/__init__.py\u001b[0m in \u001b[0;36mbackward\u001b[0;34m(tensors, grad_tensors, retain_graph, create_graph, grad_variables)\u001b[0m\n\u001b[1;32m     88\u001b[0m     Variable._execution_engine.run_backward(\n\u001b[1;32m     89\u001b[0m         \u001b[0mtensors\u001b[0m\u001b[0;34m,\u001b[0m \u001b[0mgrad_tensors\u001b[0m\u001b[0;34m,\u001b[0m \u001b[0mretain_graph\u001b[0m\u001b[0;34m,\u001b[0m \u001b[0mcreate_graph\u001b[0m\u001b[0;34m,\u001b[0m\u001b[0;34m\u001b[0m\u001b[0;34m\u001b[0m\u001b[0m\n\u001b[0;32m---> 90\u001b[0;31m         allow_unreachable=True)  # allow_unreachable flag\n\u001b[0m\u001b[1;32m     91\u001b[0m \u001b[0;34m\u001b[0m\u001b[0m\n\u001b[1;32m     92\u001b[0m \u001b[0;34m\u001b[0m\u001b[0m\n",
      "\u001b[0;31mKeyboardInterrupt\u001b[0m: "
     ]
    }
   ],
   "source": [
    "for epoch in range(100, 200):\n",
    "    \n",
    "    train(epoch)\n",
    "    test(epoch)\n",
    "    \n",
    "    with torch.no_grad():\n",
    "        \n",
    "        # sample = torch.randn(64, 2).to(device)\n",
    "        \n",
    "        sample = space # + .05 * torch.randn(16 * 16, 2).to(device)\n",
    "        sample = wae.decode(sample).cpu()\n",
    "        \n",
    "        utils.save_image(\n",
    "            sample.view(16 * 16, 1, 28, 28), \n",
    "            'results/vae-sample_' + str(epoch) + '.png', \n",
    "            nrow=16\n",
    "        )\n",
    "        \n",
    "        writer.add_image(\n",
    "            'sample', \n",
    "            utils.make_grid(sample.view(16 * 16, 1, 28, 28), nrow=16), \n",
    "            epoch\n",
    "        )"
   ]
  },
  {
   "cell_type": "code",
   "execution_count": null,
   "metadata": {},
   "outputs": [],
   "source": []
  }
 ],
 "metadata": {
  "kernelspec": {
   "display_name": "Python 3",
   "language": "python",
   "name": "python3"
  },
  "language_info": {
   "codemirror_mode": {
    "name": "ipython",
    "version": 3
   },
   "file_extension": ".py",
   "mimetype": "text/x-python",
   "name": "python",
   "nbconvert_exporter": "python",
   "pygments_lexer": "ipython3",
   "version": "3.7.1"
  },
  "toc": {
   "base_numbering": 1,
   "nav_menu": {},
   "number_sections": true,
   "sideBar": true,
   "skip_h1_title": false,
   "title_cell": "Table of Contents",
   "title_sidebar": "Contents",
   "toc_cell": false,
   "toc_position": {},
   "toc_section_display": true,
   "toc_window_display": false
  }
 },
 "nbformat": 4,
 "nbformat_minor": 2
}
